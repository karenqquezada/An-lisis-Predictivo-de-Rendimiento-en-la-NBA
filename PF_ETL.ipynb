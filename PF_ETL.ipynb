{
 "cells": [
  {
   "cell_type": "markdown",
   "id": "5981b064",
   "metadata": {},
   "source": [
    "# LIMPIEZA TABLAS ORIGEN"
   ]
  },
  {
   "cell_type": "code",
   "execution_count": null,
   "id": "8b4d61c6",
   "metadata": {},
   "outputs": [
    {
     "name": "stdout",
     "output_type": "stream",
     "text": [
      "   season_id  team_id_home team_abbreviation_home           team_name_home  \\\n",
      "0      21946    1610610035                    HUS          Toronto Huskies   \n",
      "1      21946    1610610034                    BOM        St. Louis Bombers   \n",
      "2      21946    1610610032                    PRO  Providence Steamrollers   \n",
      "3      21946    1610610025                    CHS            Chicago Stags   \n",
      "4      21946    1610610028                    DEF          Detroit Falcons   \n",
      "\n",
      "    game_id            game_date matchup_home wl_home  min  fgm_home  ...  \\\n",
      "0  24600001  1946-11-01 00:00:00  HUS vs. NYK       L    0      25.0  ...   \n",
      "1  24600003  1946-11-02 00:00:00  BOM vs. PIT       W    0      20.0  ...   \n",
      "2  24600002  1946-11-02 00:00:00  PRO vs. BOS       W    0      21.0  ...   \n",
      "3  24600004  1946-11-02 00:00:00  CHS vs. NYK       W    0      21.0  ...   \n",
      "4  24600005  1946-11-02 00:00:00  DEF vs. WAS       L    0      10.0  ...   \n",
      "\n",
      "   reb_away  ast_away  stl_away  blk_away  tov_away  pf_away  pts_away  \\\n",
      "0       NaN       NaN       NaN       NaN       NaN      NaN      68.0   \n",
      "1       NaN       NaN       NaN       NaN       NaN     25.0      51.0   \n",
      "2       NaN       NaN       NaN       NaN       NaN      NaN      53.0   \n",
      "3       NaN       NaN       NaN       NaN       NaN     22.0      47.0   \n",
      "4       NaN       NaN       NaN       NaN       NaN      NaN      50.0   \n",
      "\n",
      "   plus_minus_away  video_available_away     season_type  \n",
      "0                2                     0  Regular Season  \n",
      "1               -5                     0  Regular Season  \n",
      "2               -6                     0  Regular Season  \n",
      "3              -16                     0  Regular Season  \n",
      "4               17                     0  Regular Season  \n",
      "\n",
      "[5 rows x 55 columns]\n"
     ]
    }
   ],
   "source": [
    "import pandas as pd\n",
    "import numpy as np\n",
    "\n",
    "# Leer el archivo CSV (game)\n",
    "df_game = pd.read_csv(r'C:\\Users\\PC\\Documents\\HENRY\\MOD PROYECTO FINAL\\base datos\\csv\\game.csv')\n",
    "\n",
    "# Ver las primeras 5 filas\n",
    "print(df_game.head())\n",
    "\n"
   ]
  },
  {
   "cell_type": "code",
   "execution_count": 3,
   "id": "49a94c83",
   "metadata": {},
   "outputs": [
    {
     "name": "stdout",
     "output_type": "stream",
     "text": [
      "Index(['season_id', 'team_id_home', 'team_abbreviation_home', 'team_name_home',\n",
      "       'game_id', 'game_date', 'matchup_home', 'wl_home', 'min', 'fgm_home',\n",
      "       'fga_home', 'fg_pct_home', 'fg3m_home', 'fg3a_home', 'fg3_pct_home',\n",
      "       'ftm_home', 'fta_home', 'ft_pct_home', 'oreb_home', 'dreb_home',\n",
      "       'reb_home', 'ast_home', 'stl_home', 'blk_home', 'tov_home', 'pf_home',\n",
      "       'pts_home', 'plus_minus_home', 'video_available_home', 'team_id_away',\n",
      "       'team_abbreviation_away', 'team_name_away', 'matchup_away', 'wl_away',\n",
      "       'fgm_away', 'fga_away', 'fg_pct_away', 'fg3m_away', 'fg3a_away',\n",
      "       'fg3_pct_away', 'ftm_away', 'fta_away', 'ft_pct_away', 'oreb_away',\n",
      "       'dreb_away', 'reb_away', 'ast_away', 'stl_away', 'blk_away', 'tov_away',\n",
      "       'pf_away', 'pts_away', 'plus_minus_away', 'video_available_away',\n",
      "       'season_type'],\n",
      "      dtype='object')\n"
     ]
    }
   ],
   "source": [
    " # Limpiar los nombres de columnas\n",
    " \n",
    "df_game.columns = df_game.columns.str.strip().str.lower().str.replace(' ', '_')\n",
    "print(df_game.columns)\n"
   ]
  },
  {
   "cell_type": "code",
   "execution_count": 4,
   "id": "b57a1807",
   "metadata": {},
   "outputs": [
    {
     "name": "stdout",
     "output_type": "stream",
     "text": [
      "season_id                     0\n",
      "team_id_home                  0\n",
      "team_abbreviation_home        0\n",
      "team_name_home                0\n",
      "game_id                       0\n",
      "game_date                     0\n",
      "matchup_home                  0\n",
      "wl_home                       2\n",
      "min                           0\n",
      "fgm_home                     13\n",
      "fga_home                  15447\n",
      "fg_pct_home               15490\n",
      "fg3m_home                 13218\n",
      "fg3a_home                 18683\n",
      "fg3_pct_home              19074\n",
      "ftm_home                     16\n",
      "fta_home                   3004\n",
      "ft_pct_home                3009\n",
      "oreb_home                 18936\n",
      "dreb_home                 18999\n",
      "reb_home                  15729\n",
      "ast_home                  15805\n",
      "stl_home                  18849\n",
      "blk_home                  18626\n",
      "tov_home                  18684\n",
      "pf_home                    2856\n",
      "pts_home                      0\n",
      "plus_minus_home               0\n",
      "video_available_home          0\n",
      "team_id_away                  0\n",
      "team_abbreviation_away        0\n",
      "team_name_away                0\n",
      "matchup_away                  0\n",
      "wl_away                       2\n",
      "fgm_away                     13\n",
      "fga_away                  15447\n",
      "fg_pct_away               15489\n",
      "fg3m_away                 13218\n",
      "fg3a_away                 18683\n",
      "fg3_pct_away              18962\n",
      "ftm_away                     13\n",
      "fta_away                   3004\n",
      "ft_pct_away                3006\n",
      "oreb_away                 18936\n",
      "dreb_away                 18998\n",
      "reb_away                  15725\n",
      "ast_away                  15801\n",
      "stl_away                  18849\n",
      "blk_away                  18625\n",
      "tov_away                  18685\n",
      "pf_away                    2851\n",
      "pts_away                      0\n",
      "plus_minus_away               0\n",
      "video_available_away          0\n",
      "season_type                   0\n",
      "dtype: int64\n"
     ]
    }
   ],
   "source": [
    "#Ver si hay valores faltantes\n",
    "\n",
    "print(df_game.isnull().sum())\n"
   ]
  },
  {
   "cell_type": "code",
   "execution_count": 9,
   "id": "ec11b555",
   "metadata": {},
   "outputs": [
    {
     "name": "stdout",
     "output_type": "stream",
     "text": [
      "season_id                          int64\n",
      "team_id_home                       Int64\n",
      "team_abbreviation_home            object\n",
      "team_name_home                    object\n",
      "game_id                            int64\n",
      "game_date                 datetime64[ns]\n",
      "matchup_home                      object\n",
      "wl_home                           object\n",
      "min                                int64\n",
      "fgm_home                         float64\n",
      "fga_home                         float64\n",
      "fg_pct_home                      float64\n",
      "fg3m_home                        float64\n",
      "fg3a_home                        float64\n",
      "fg3_pct_home                     float64\n",
      "ftm_home                         float64\n",
      "fta_home                         float64\n",
      "ft_pct_home                      float64\n",
      "oreb_home                        float64\n",
      "dreb_home                        float64\n",
      "reb_home                         float64\n",
      "ast_home                         float64\n",
      "stl_home                         float64\n",
      "blk_home                         float64\n",
      "tov_home                         float64\n",
      "pf_home                          float64\n",
      "pts_home                         float64\n",
      "plus_minus_home                    int64\n",
      "video_available_home               int64\n",
      "team_id_away                       Int64\n",
      "team_abbreviation_away            object\n",
      "team_name_away                    object\n",
      "matchup_away                      object\n",
      "wl_away                           object\n",
      "fgm_away                         float64\n",
      "fga_away                         float64\n",
      "fg_pct_away                      float64\n",
      "fg3m_away                        float64\n",
      "fg3a_away                        float64\n",
      "fg3_pct_away                     float64\n",
      "ftm_away                         float64\n",
      "fta_away                         float64\n",
      "ft_pct_away                      float64\n",
      "oreb_away                        float64\n",
      "dreb_away                        float64\n",
      "reb_away                         float64\n",
      "ast_away                         float64\n",
      "stl_away                         float64\n",
      "blk_away                         float64\n",
      "tov_away                         float64\n",
      "pf_away                          float64\n",
      "pts_away                         float64\n",
      "plus_minus_away                    int64\n",
      "video_available_away               int64\n",
      "season_type                       object\n",
      "dtype: object\n"
     ]
    }
   ],
   "source": [
    "print(df_game.dtypes)\n"
   ]
  },
  {
   "cell_type": "code",
   "execution_count": 8,
   "id": "38667f40",
   "metadata": {},
   "outputs": [
    {
     "name": "stdout",
     "output_type": "stream",
     "text": [
      "season_id                          int64\n",
      "team_id_home                       Int64\n",
      "team_abbreviation_home            object\n",
      "team_name_home                    object\n",
      "game_id                            int64\n",
      "game_date                 datetime64[ns]\n",
      "matchup_home                      object\n",
      "wl_home                           object\n",
      "min                                int64\n",
      "fgm_home                         float64\n",
      "fga_home                         float64\n",
      "fg_pct_home                      float64\n",
      "fg3m_home                        float64\n",
      "fg3a_home                        float64\n",
      "fg3_pct_home                     float64\n",
      "ftm_home                         float64\n",
      "fta_home                         float64\n",
      "ft_pct_home                      float64\n",
      "oreb_home                        float64\n",
      "dreb_home                        float64\n",
      "reb_home                         float64\n",
      "ast_home                         float64\n",
      "stl_home                         float64\n",
      "blk_home                         float64\n",
      "tov_home                         float64\n",
      "pf_home                          float64\n",
      "pts_home                         float64\n",
      "plus_minus_home                    int64\n",
      "video_available_home               int64\n",
      "team_id_away                       Int64\n",
      "team_abbreviation_away            object\n",
      "team_name_away                    object\n",
      "matchup_away                      object\n",
      "wl_away                           object\n",
      "fgm_away                         float64\n",
      "fga_away                         float64\n",
      "fg_pct_away                      float64\n",
      "fg3m_away                        float64\n",
      "fg3a_away                        float64\n",
      "fg3_pct_away                     float64\n",
      "ftm_away                         float64\n",
      "fta_away                         float64\n",
      "ft_pct_away                      float64\n",
      "oreb_away                        float64\n",
      "dreb_away                        float64\n",
      "reb_away                         float64\n",
      "ast_away                         float64\n",
      "stl_away                         float64\n",
      "blk_away                         float64\n",
      "tov_away                         float64\n",
      "pf_away                          float64\n",
      "pts_away                         float64\n",
      "plus_minus_away                    int64\n",
      "video_available_away               int64\n",
      "season_type                       object\n",
      "dtype: object\n"
     ]
    }
   ],
   "source": [
    "# Convertir columnas clave al tipo correcto\n",
    "\n",
    "df_game['game_date'] = pd.to_datetime(df_game['game_date'])\n",
    "\n",
    "df_game['team_id_home'] = df_game['team_id_home'].astype('Int64')\n",
    "df_game['team_id_away'] = df_game['team_id_away'].astype('Int64')\n",
    "\n",
    "print(df_game.dtypes)\n"
   ]
  },
  {
   "cell_type": "code",
   "execution_count": 10,
   "id": "c2926a31",
   "metadata": {},
   "outputs": [
    {
     "name": "stdout",
     "output_type": "stream",
     "text": [
      "   season_id  team_id_home team_abbreviation_home           team_name_home  \\\n",
      "0      21946    1610610035                    HUS          Toronto Huskies   \n",
      "1      21946    1610610034                    BOM        St. Louis Bombers   \n",
      "2      21946    1610610032                    PRO  Providence Steamrollers   \n",
      "3      21946    1610610025                    CHS            Chicago Stags   \n",
      "4      21946    1610610028                    DEF          Detroit Falcons   \n",
      "\n",
      "    game_id  game_date matchup_home wl_home  min  fgm_home  ...  reb_away  \\\n",
      "0  24600001 1946-11-01  HUS vs. NYK       L    0      25.0  ...       NaN   \n",
      "1  24600003 1946-11-02  BOM vs. PIT       W    0      20.0  ...       NaN   \n",
      "2  24600002 1946-11-02  PRO vs. BOS       W    0      21.0  ...       NaN   \n",
      "3  24600004 1946-11-02  CHS vs. NYK       W    0      21.0  ...       NaN   \n",
      "4  24600005 1946-11-02  DEF vs. WAS       L    0      10.0  ...       NaN   \n",
      "\n",
      "   ast_away  stl_away  blk_away  tov_away  pf_away  pts_away  plus_minus_away  \\\n",
      "0       NaN       NaN       NaN       NaN      NaN      68.0                2   \n",
      "1       NaN       NaN       NaN       NaN     25.0      51.0               -5   \n",
      "2       NaN       NaN       NaN       NaN      NaN      53.0               -6   \n",
      "3       NaN       NaN       NaN       NaN     22.0      47.0              -16   \n",
      "4       NaN       NaN       NaN       NaN      NaN      50.0               17   \n",
      "\n",
      "   video_available_away     season_type  \n",
      "0                     0  Regular Season  \n",
      "1                     0  Regular Season  \n",
      "2                     0  Regular Season  \n",
      "3                     0  Regular Season  \n",
      "4                     0  Regular Season  \n",
      "\n",
      "[5 rows x 55 columns]\n"
     ]
    }
   ],
   "source": [
    "# Ver las primeras 5 filas\n",
    "print(df_game.head())"
   ]
  },
  {
   "cell_type": "code",
   "execution_count": 11,
   "id": "10f3d29e",
   "metadata": {},
   "outputs": [
    {
     "name": "stdout",
     "output_type": "stream",
     "text": [
      "Filas duplicadas: 0\n"
     ]
    }
   ],
   "source": [
    "# 2. Verificación de duplicados\n",
    "duplicados = df_game.duplicated()\n",
    "print(f'Filas duplicadas: {duplicados.sum()}')\n"
   ]
  },
  {
   "cell_type": "code",
   "execution_count": 12,
   "id": "ef2ca277",
   "metadata": {},
   "outputs": [
    {
     "name": "stdout",
     "output_type": "stream",
     "text": [
      "season_id                  0.00\n",
      "team_id_home               0.00\n",
      "team_abbreviation_home     0.00\n",
      "team_name_home             0.00\n",
      "game_id                    0.00\n",
      "game_date                  0.00\n",
      "matchup_home               0.00\n",
      "wl_home                    0.00\n",
      "min                        0.00\n",
      "fgm_home                   0.02\n",
      "fga_home                  23.51\n",
      "fg_pct_home               23.58\n",
      "fg3m_home                 20.12\n",
      "fg3a_home                 28.44\n",
      "fg3_pct_home              29.03\n",
      "ftm_home                   0.02\n",
      "fta_home                   4.57\n",
      "ft_pct_home                4.58\n",
      "oreb_home                 28.82\n",
      "dreb_home                 28.92\n",
      "reb_home                  23.94\n",
      "ast_home                  24.06\n",
      "stl_home                  28.69\n",
      "blk_home                  28.35\n",
      "tov_home                  28.44\n",
      "pf_home                    4.35\n",
      "pts_home                   0.00\n",
      "plus_minus_home            0.00\n",
      "video_available_home       0.00\n",
      "team_id_away               0.00\n",
      "team_abbreviation_away     0.00\n",
      "team_name_away             0.00\n",
      "matchup_away               0.00\n",
      "wl_away                    0.00\n",
      "fgm_away                   0.02\n",
      "fga_away                  23.51\n",
      "fg_pct_away               23.58\n",
      "fg3m_away                 20.12\n",
      "fg3a_away                 28.44\n",
      "fg3_pct_away              28.86\n",
      "ftm_away                   0.02\n",
      "fta_away                   4.57\n",
      "ft_pct_away                4.58\n",
      "oreb_away                 28.82\n",
      "dreb_away                 28.92\n",
      "reb_away                  23.94\n",
      "ast_away                  24.05\n",
      "stl_away                  28.69\n",
      "blk_away                  28.35\n",
      "tov_away                  28.44\n",
      "pf_away                    4.34\n",
      "pts_away                   0.00\n",
      "plus_minus_away            0.00\n",
      "video_available_away       0.00\n",
      "season_type                0.00\n",
      "dtype: float64\n"
     ]
    }
   ],
   "source": [
    "#Ver porcentaje de valores faltantes por columna\n",
    "\n",
    "porcentaje_nulos = (df_game.isnull().mean() * 100).round(2)\n",
    "print(porcentaje_nulos)\n"
   ]
  },
  {
   "cell_type": "code",
   "execution_count": 13,
   "id": "3c8b3754",
   "metadata": {},
   "outputs": [
    {
     "name": "stdout",
     "output_type": "stream",
     "text": [
      "wl_home             2\n",
      "fgm_home           13\n",
      "fga_home        15447\n",
      "fg_pct_home     15490\n",
      "fg3m_home       13218\n",
      "fg3a_home       18683\n",
      "fg3_pct_home    19074\n",
      "ftm_home           16\n",
      "fta_home         3004\n",
      "ft_pct_home      3009\n",
      "oreb_home       18936\n",
      "dreb_home       18999\n",
      "reb_home        15729\n",
      "ast_home        15805\n",
      "stl_home        18849\n",
      "blk_home        18626\n",
      "tov_home        18684\n",
      "pf_home          2856\n",
      "wl_away             2\n",
      "fgm_away           13\n",
      "fga_away        15447\n",
      "fg_pct_away     15489\n",
      "fg3m_away       13218\n",
      "fg3a_away       18683\n",
      "fg3_pct_away    18962\n",
      "ftm_away           13\n",
      "fta_away         3004\n",
      "ft_pct_away      3006\n",
      "oreb_away       18936\n",
      "dreb_away       18998\n",
      "reb_away        15725\n",
      "ast_away        15801\n",
      "stl_away        18849\n",
      "blk_away        18625\n",
      "tov_away        18685\n",
      "pf_away          2851\n",
      "dtype: int64\n"
     ]
    }
   ],
   "source": [
    "#Ver solo las columnas que tienen valores faltantes\n",
    "\n",
    "faltantes = df_game.isnull().sum()\n",
    "faltantes = faltantes[faltantes > 0]\n",
    "print(faltantes)\n"
   ]
  },
  {
   "cell_type": "code",
   "execution_count": 14,
   "id": "849c6d1b",
   "metadata": {},
   "outputs": [
    {
     "name": "stdout",
     "output_type": "stream",
     "text": [
      "Valores faltantes restantes después del tratamiento:\n",
      "wl_home         0\n",
      "wl_away         0\n",
      "fgm_home        0\n",
      "fga_home        0\n",
      "fg_pct_home     0\n",
      "fg3m_home       0\n",
      "fg3a_home       0\n",
      "fg3_pct_home    0\n",
      "ftm_home        0\n",
      "fta_home        0\n",
      "ft_pct_home     0\n",
      "oreb_home       0\n",
      "dreb_home       0\n",
      "reb_home        0\n",
      "ast_home        0\n",
      "stl_home        0\n",
      "blk_home        0\n",
      "tov_home        0\n",
      "pf_home         0\n",
      "fgm_away        0\n",
      "fga_away        0\n",
      "fg_pct_away     0\n",
      "fg3m_away       0\n",
      "fg3a_away       0\n",
      "fg3_pct_away    0\n",
      "ftm_away        0\n",
      "fta_away        0\n",
      "ft_pct_away     0\n",
      "oreb_away       0\n",
      "dreb_away       0\n",
      "reb_away        0\n",
      "ast_away        0\n",
      "stl_away        0\n",
      "blk_away        0\n",
      "tov_away        0\n",
      "pf_away         0\n",
      "dtype: int64\n"
     ]
    }
   ],
   "source": [
    "#Manejo de valores faltantes por columna\n",
    "\n",
    "# Lista de columnas de resultado ('W' o 'L'), tipo texto\n",
    "columnas_resultado = ['wl_home', 'wl_away']\n",
    "\n",
    "# Lista de columnas numéricas (estadísticas)\n",
    "columnas_numericas = [\n",
    "    'fgm_home', 'fga_home', 'fg_pct_home', 'fg3m_home', 'fg3a_home', 'fg3_pct_home',\n",
    "    'ftm_home', 'fta_home', 'ft_pct_home', 'oreb_home', 'dreb_home', 'reb_home',\n",
    "    'ast_home', 'stl_home', 'blk_home', 'tov_home', 'pf_home',\n",
    "    \n",
    "    'fgm_away', 'fga_away', 'fg_pct_away', 'fg3m_away', 'fg3a_away', 'fg3_pct_away',\n",
    "    'ftm_away', 'fta_away', 'ft_pct_away', 'oreb_away', 'dreb_away', 'reb_away',\n",
    "    'ast_away', 'stl_away', 'blk_away', 'tov_away', 'pf_away'\n",
    "]\n",
    "\n",
    "# 1. Rellenar columnas de texto con 'Unknown'\n",
    "for col in columnas_resultado:\n",
    "    if col in df_game.columns:\n",
    "        df_game[col] = df_game[col].fillna('Unknown')\n",
    "\n",
    "# 2. Rellenar columnas numéricas con 0\n",
    "for col in columnas_numericas:\n",
    "    if col in df_game.columns:\n",
    "        df_game[col] = df_game[col].fillna(0)\n",
    "\n",
    "# 3. Verificación final\n",
    "print(\"Valores faltantes restantes después del tratamiento:\")\n",
    "print(df_game[columnas_resultado + columnas_numericas].isnull().sum())\n"
   ]
  },
  {
   "cell_type": "code",
   "execution_count": 16,
   "id": "065347e1",
   "metadata": {},
   "outputs": [
    {
     "name": "stdout",
     "output_type": "stream",
     "text": [
      "   season_id  team_id_home team_abbreviation_home           team_name_home  \\\n",
      "0      21946    1610610035                    HUS          Toronto Huskies   \n",
      "1      21946    1610610034                    BOM        St. Louis Bombers   \n",
      "2      21946    1610610032                    PRO  Providence Steamrollers   \n",
      "3      21946    1610610025                    CHS            Chicago Stags   \n",
      "4      21946    1610610028                    DEF          Detroit Falcons   \n",
      "\n",
      "    game_id  game_date matchup_home wl_home  min  fgm_home  ...  reb_away  \\\n",
      "0  24600001 1946-11-01  HUS vs. NYK       L    0      25.0  ...       0.0   \n",
      "1  24600003 1946-11-02  BOM vs. PIT       W    0      20.0  ...       0.0   \n",
      "2  24600002 1946-11-02  PRO vs. BOS       W    0      21.0  ...       0.0   \n",
      "3  24600004 1946-11-02  CHS vs. NYK       W    0      21.0  ...       0.0   \n",
      "4  24600005 1946-11-02  DEF vs. WAS       L    0      10.0  ...       0.0   \n",
      "\n",
      "   ast_away  stl_away  blk_away  tov_away  pf_away  pts_away  plus_minus_away  \\\n",
      "0       0.0       0.0       0.0       0.0      0.0      68.0                2   \n",
      "1       0.0       0.0       0.0       0.0     25.0      51.0               -5   \n",
      "2       0.0       0.0       0.0       0.0      0.0      53.0               -6   \n",
      "3       0.0       0.0       0.0       0.0     22.0      47.0              -16   \n",
      "4       0.0       0.0       0.0       0.0      0.0      50.0               17   \n",
      "\n",
      "   video_available_away     season_type  \n",
      "0                     0  Regular Season  \n",
      "1                     0  Regular Season  \n",
      "2                     0  Regular Season  \n",
      "3                     0  Regular Season  \n",
      "4                     0  Regular Season  \n",
      "\n",
      "[5 rows x 55 columns]\n"
     ]
    }
   ],
   "source": [
    "# Ver las primeras 5 filas\n",
    "print(df_game.head())"
   ]
  },
  {
   "cell_type": "code",
   "execution_count": 17,
   "id": "4d43914a",
   "metadata": {},
   "outputs": [
    {
     "name": "stdout",
     "output_type": "stream",
     "text": [
      "         game_date_est  game_sequence   game_id  game_status_id  \\\n",
      "0  1946-11-01 00:00:00            NaN  24600001               3   \n",
      "1  1946-11-02 00:00:00            NaN  24600003               3   \n",
      "2  1946-11-02 00:00:00            NaN  24600002               3   \n",
      "3  1946-11-02 00:00:00            NaN  24600004               3   \n",
      "4  1946-11-02 00:00:00            NaN  24600005               3   \n",
      "\n",
      "  game_status_text         gamecode  home_team_id  visitor_team_id  season  \\\n",
      "0              NaN  19461101/NYKHUS    1610610035       1610612752    1946   \n",
      "1              NaN  19461102/PITBOM    1610610034       1610610031    1946   \n",
      "2              NaN  19461102/BOSPRO    1610610032       1610612738    1946   \n",
      "3              NaN  19461102/NYKCHS    1610610025       1610612752    1946   \n",
      "4              NaN  19461102/WASDEF    1610610028       1610610036    1946   \n",
      "\n",
      "   live_period live_pc_time natl_tv_broadcaster_abbreviation  \\\n",
      "0            5          NaN                              NaN   \n",
      "1            4          NaN                              NaN   \n",
      "2            4          NaN                              NaN   \n",
      "3            4          NaN                              NaN   \n",
      "4            4          NaN                              NaN   \n",
      "\n",
      "  live_period_time_bcast  wh_status  \n",
      "0                 Q5  -           1  \n",
      "1                 Q4  -           1  \n",
      "2                 Q4  -           1  \n",
      "3                 Q4  -           1  \n",
      "4                 Q4  -           1  \n"
     ]
    }
   ],
   "source": [
    "# Leer el archivo CSV (game_summary)\n",
    "df_game_summary = pd.read_csv(r'C:\\Users\\PC\\Documents\\HENRY\\MOD PROYECTO FINAL\\base datos\\csv\\game_summary.csv')\n",
    "\n",
    "# Ver las primeras 5 filas\n",
    "print(df_game_summary.head())"
   ]
  },
  {
   "cell_type": "code",
   "execution_count": 18,
   "id": "d8135bf3",
   "metadata": {},
   "outputs": [
    {
     "name": "stdout",
     "output_type": "stream",
     "text": [
      "Index(['game_date_est', 'game_sequence', 'game_id', 'game_status_id',\n",
      "       'game_status_text', 'gamecode', 'home_team_id', 'visitor_team_id',\n",
      "       'season', 'live_period', 'live_pc_time',\n",
      "       'natl_tv_broadcaster_abbreviation', 'live_period_time_bcast',\n",
      "       'wh_status'],\n",
      "      dtype='object')\n"
     ]
    }
   ],
   "source": [
    "#Limpiar los nombres de columnas\n",
    "\n",
    "df_game_summary.columns = df_game_summary.columns.str.strip().str.lower().str.replace(' ', '_')\n",
    "print(df_game_summary.columns)\n"
   ]
  },
  {
   "cell_type": "code",
   "execution_count": 19,
   "id": "d1aabaa6",
   "metadata": {},
   "outputs": [
    {
     "name": "stdout",
     "output_type": "stream",
     "text": [
      "game_date_est                           0\n",
      "game_sequence                       25532\n",
      "game_id                                 0\n",
      "game_status_id                          0\n",
      "game_status_text                    25986\n",
      "gamecode                                0\n",
      "home_team_id                            0\n",
      "visitor_team_id                         0\n",
      "season                                  0\n",
      "live_period                             0\n",
      "live_pc_time                        56086\n",
      "natl_tv_broadcaster_abbreviation    51907\n",
      "live_period_time_bcast                  0\n",
      "wh_status                               0\n",
      "dtype: int64\n"
     ]
    }
   ],
   "source": [
    "#  Ver si hay valores faltantes\n",
    "\n",
    "print(df_game_summary.isnull().sum())\n"
   ]
  },
  {
   "cell_type": "code",
   "execution_count": 21,
   "id": "2b3a8361",
   "metadata": {},
   "outputs": [
    {
     "name": "stdout",
     "output_type": "stream",
     "text": [
      "game_date_est                        object\n",
      "game_sequence                       float64\n",
      "game_id                               int64\n",
      "game_status_id                        int64\n",
      "game_status_text                     object\n",
      "gamecode                             object\n",
      "home_team_id                          int64\n",
      "visitor_team_id                       int64\n",
      "season                                int64\n",
      "live_period                           int64\n",
      "live_pc_time                         object\n",
      "natl_tv_broadcaster_abbreviation     object\n",
      "live_period_time_bcast               object\n",
      "wh_status                             int64\n",
      "dtype: object\n"
     ]
    }
   ],
   "source": [
    "print(df_game_summary.dtypes)\n"
   ]
  },
  {
   "cell_type": "code",
   "execution_count": 22,
   "id": "8c1f918d",
   "metadata": {},
   "outputs": [],
   "source": [
    "#Convertir columnas clave al tipo correcto\n",
    "\n",
    "df_game_summary['game_date_est'] = pd.to_datetime(df_game_summary['game_date_est'])\n",
    "\n",
    "df_game_summary['home_team_id'] = df_game_summary['home_team_id'].astype('Int64')\n",
    "df_game_summary['visitor_team_id'] = df_game_summary['visitor_team_id'].astype('Int64')\n",
    "\n"
   ]
  },
  {
   "cell_type": "code",
   "execution_count": 23,
   "id": "20bbadf9",
   "metadata": {},
   "outputs": [
    {
     "name": "stdout",
     "output_type": "stream",
     "text": [
      "  game_date_est  game_sequence   game_id  game_status_id game_status_text  \\\n",
      "0    1946-11-01            NaN  24600001               3              NaN   \n",
      "1    1946-11-02            NaN  24600003               3              NaN   \n",
      "2    1946-11-02            NaN  24600002               3              NaN   \n",
      "3    1946-11-02            NaN  24600004               3              NaN   \n",
      "4    1946-11-02            NaN  24600005               3              NaN   \n",
      "\n",
      "          gamecode  home_team_id  visitor_team_id  season  live_period  \\\n",
      "0  19461101/NYKHUS    1610610035       1610612752    1946            5   \n",
      "1  19461102/PITBOM    1610610034       1610610031    1946            4   \n",
      "2  19461102/BOSPRO    1610610032       1610612738    1946            4   \n",
      "3  19461102/NYKCHS    1610610025       1610612752    1946            4   \n",
      "4  19461102/WASDEF    1610610028       1610610036    1946            4   \n",
      "\n",
      "  live_pc_time natl_tv_broadcaster_abbreviation live_period_time_bcast  \\\n",
      "0          NaN                              NaN                 Q5  -    \n",
      "1          NaN                              NaN                 Q4  -    \n",
      "2          NaN                              NaN                 Q4  -    \n",
      "3          NaN                              NaN                 Q4  -    \n",
      "4          NaN                              NaN                 Q4  -    \n",
      "\n",
      "   wh_status  \n",
      "0          1  \n",
      "1          1  \n",
      "2          1  \n",
      "3          1  \n",
      "4          1  \n"
     ]
    }
   ],
   "source": [
    "# Ver las primeras 5 filas\n",
    "print(df_game_summary.head())\n"
   ]
  },
  {
   "cell_type": "code",
   "execution_count": 24,
   "id": "61013004",
   "metadata": {},
   "outputs": [
    {
     "name": "stdout",
     "output_type": "stream",
     "text": [
      "Filas duplicadas: 40\n"
     ]
    }
   ],
   "source": [
    "# Verificación de duplicados\n",
    "duplicados = df_game_summary.duplicated()\n",
    "print(f'Filas duplicadas: {duplicados.sum()}')\n"
   ]
  },
  {
   "cell_type": "code",
   "execution_count": 25,
   "id": "987fb822",
   "metadata": {},
   "outputs": [
    {
     "name": "stdout",
     "output_type": "stream",
     "text": [
      "Duplicados por game_id: 89\n"
     ]
    }
   ],
   "source": [
    "# Ver si hay duplicados por columna clave (ej: game_id)\n",
    "duplicados_game_id = df_game_summary.duplicated(subset='game_id')\n",
    "print(f\"Duplicados por game_id: {duplicados_game_id.sum()}\")\n"
   ]
  },
  {
   "cell_type": "code",
   "execution_count": 26,
   "id": "a5e053bb",
   "metadata": {},
   "outputs": [],
   "source": [
    "# Eliminar duplicados exactos en todas las columnas\n",
    "df_game_summary = df_game_summary.drop_duplicates()\n",
    "\n"
   ]
  },
  {
   "cell_type": "code",
   "execution_count": 27,
   "id": "226453de",
   "metadata": {},
   "outputs": [
    {
     "name": "stdout",
     "output_type": "stream",
     "text": [
      "Después de eliminar duplicados:\n",
      "0\n"
     ]
    }
   ],
   "source": [
    "print(\"Después de eliminar duplicados:\")\n",
    "print(df_game_summary.duplicated().sum())\n"
   ]
  },
  {
   "cell_type": "code",
   "execution_count": 28,
   "id": "356c4391",
   "metadata": {},
   "outputs": [
    {
     "name": "stdout",
     "output_type": "stream",
     "text": [
      "  game_date_est  game_sequence   game_id  game_status_id game_status_text  \\\n",
      "0    1946-11-01            NaN  24600001               3              NaN   \n",
      "1    1946-11-02            NaN  24600003               3              NaN   \n",
      "2    1946-11-02            NaN  24600002               3              NaN   \n",
      "3    1946-11-02            NaN  24600004               3              NaN   \n",
      "4    1946-11-02            NaN  24600005               3              NaN   \n",
      "\n",
      "          gamecode  home_team_id  visitor_team_id  season  live_period  \\\n",
      "0  19461101/NYKHUS    1610610035       1610612752    1946            5   \n",
      "1  19461102/PITBOM    1610610034       1610610031    1946            4   \n",
      "2  19461102/BOSPRO    1610610032       1610612738    1946            4   \n",
      "3  19461102/NYKCHS    1610610025       1610612752    1946            4   \n",
      "4  19461102/WASDEF    1610610028       1610610036    1946            4   \n",
      "\n",
      "  live_pc_time natl_tv_broadcaster_abbreviation live_period_time_bcast  \\\n",
      "0          NaN                              NaN                 Q5  -    \n",
      "1          NaN                              NaN                 Q4  -    \n",
      "2          NaN                              NaN                 Q4  -    \n",
      "3          NaN                              NaN                 Q4  -    \n",
      "4          NaN                              NaN                 Q4  -    \n",
      "\n",
      "   wh_status  \n",
      "0          1  \n",
      "1          1  \n",
      "2          1  \n",
      "3          1  \n",
      "4          1  \n"
     ]
    }
   ],
   "source": [
    "# Ver las primeras 5 filas\n",
    "print(df_game_summary.head())"
   ]
  },
  {
   "cell_type": "code",
   "execution_count": 29,
   "id": "ab3a8e58",
   "metadata": {},
   "outputs": [
    {
     "name": "stdout",
     "output_type": "stream",
     "text": [
      "game_date_est                        0.00\n",
      "game_sequence                       43.97\n",
      "game_id                              0.00\n",
      "game_status_id                       0.00\n",
      "game_status_text                    44.75\n",
      "gamecode                             0.00\n",
      "home_team_id                         0.00\n",
      "visitor_team_id                      0.00\n",
      "season                               0.00\n",
      "live_period                          0.00\n",
      "live_pc_time                        96.52\n",
      "natl_tv_broadcaster_abbreviation    89.34\n",
      "live_period_time_bcast               0.00\n",
      "wh_status                            0.00\n",
      "dtype: float64\n"
     ]
    }
   ],
   "source": [
    "#Ver porcentaje de valores faltantes por columna\n",
    "porcentaje_nulos = (df_game_summary.isnull().mean() * 100).round(2)\n",
    "print(porcentaje_nulos)\n"
   ]
  },
  {
   "cell_type": "code",
   "execution_count": 30,
   "id": "646c8dbf",
   "metadata": {},
   "outputs": [
    {
     "name": "stdout",
     "output_type": "stream",
     "text": [
      "game_sequence                       25532\n",
      "game_status_text                    25986\n",
      "live_pc_time                        56047\n",
      "natl_tv_broadcaster_abbreviation    51878\n",
      "dtype: int64\n"
     ]
    }
   ],
   "source": [
    "#Ver solo las columnas que tienen valores faltantes\n",
    "\n",
    "faltantes = df_game_summary.isnull().sum()\n",
    "faltantes = faltantes[faltantes > 0]\n",
    "print(faltantes)\n"
   ]
  },
  {
   "cell_type": "code",
   "execution_count": 31,
   "id": "60024464",
   "metadata": {},
   "outputs": [
    {
     "name": "stdout",
     "output_type": "stream",
     "text": [
      "Valores faltantes restantes (esperamos todos en 0):\n",
      "game_sequence                       0\n",
      "game_status_text                    0\n",
      "live_pc_time                        0\n",
      "natl_tv_broadcaster_abbreviation    0\n",
      "dtype: int64\n"
     ]
    }
   ],
   "source": [
    "#tratamiento de valores faltantes\n",
    "\n",
    "# 1. game_sequence → numérico, puede usarse -1 para indicar \"desconocido\"\n",
    "if 'game_sequence' in df_game_summary.columns:\n",
    "    df_game_summary['game_sequence'] = df_game_summary['game_sequence'].fillna(-1)\n",
    "\n",
    "# 2. game_status_text → texto: \"Desconocido\"\n",
    "if 'game_status_text' in df_game_summary.columns:\n",
    "    df_game_summary['game_status_text'] = df_game_summary['game_status_text'].fillna('Desconocido')\n",
    "\n",
    "# 3. live_pc_time → texto: \"00:00\" o \"No disponible\"\n",
    "if 'live_pc_time' in df_game_summary.columns:\n",
    "    df_game_summary['live_pc_time'] = df_game_summary['live_pc_time'].fillna('00:00')\n",
    "\n",
    "# 4. natl_tv_broadcaster_abbreviation → texto: \"Sin TV\"\n",
    "if 'natl_tv_broadcaster_abbreviation' in df_game_summary.columns:\n",
    "    df_game_summary['natl_tv_broadcaster_abbreviation'] = df_game_summary['natl_tv_broadcaster_abbreviation'].fillna('Sin TV')\n",
    "\n",
    "# ✅ Verificamos que se haya hecho correctamente\n",
    "print(\"Valores faltantes restantes (esperamos todos en 0):\")\n",
    "print(df_game_summary[['game_sequence', 'game_status_text', 'live_pc_time', 'natl_tv_broadcaster_abbreviation']].isnull().sum())\n"
   ]
  },
  {
   "cell_type": "code",
   "execution_count": 32,
   "id": "76cd1f30",
   "metadata": {},
   "outputs": [
    {
     "name": "stdout",
     "output_type": "stream",
     "text": [
      "  game_date_est  game_sequence   game_id  game_status_id game_status_text  \\\n",
      "0    1946-11-01           -1.0  24600001               3      Desconocido   \n",
      "1    1946-11-02           -1.0  24600003               3      Desconocido   \n",
      "2    1946-11-02           -1.0  24600002               3      Desconocido   \n",
      "3    1946-11-02           -1.0  24600004               3      Desconocido   \n",
      "4    1946-11-02           -1.0  24600005               3      Desconocido   \n",
      "\n",
      "          gamecode  home_team_id  visitor_team_id  season  live_period  \\\n",
      "0  19461101/NYKHUS    1610610035       1610612752    1946            5   \n",
      "1  19461102/PITBOM    1610610034       1610610031    1946            4   \n",
      "2  19461102/BOSPRO    1610610032       1610612738    1946            4   \n",
      "3  19461102/NYKCHS    1610610025       1610612752    1946            4   \n",
      "4  19461102/WASDEF    1610610028       1610610036    1946            4   \n",
      "\n",
      "  live_pc_time natl_tv_broadcaster_abbreviation live_period_time_bcast  \\\n",
      "0        00:00                           Sin TV                 Q5  -    \n",
      "1        00:00                           Sin TV                 Q4  -    \n",
      "2        00:00                           Sin TV                 Q4  -    \n",
      "3        00:00                           Sin TV                 Q4  -    \n",
      "4        00:00                           Sin TV                 Q4  -    \n",
      "\n",
      "   wh_status  \n",
      "0          1  \n",
      "1          1  \n",
      "2          1  \n",
      "3          1  \n",
      "4          1  \n"
     ]
    }
   ],
   "source": [
    "# Ver las primeras 5 filas\n",
    "print(df_game_summary.head())"
   ]
  },
  {
   "cell_type": "code",
   "execution_count": 33,
   "id": "67ab1c0d",
   "metadata": {},
   "outputs": [
    {
     "name": "stdout",
     "output_type": "stream",
     "text": [
      "         game_date_est  game_sequence   game_id  team_id_home  \\\n",
      "0  1946-11-01 00:00:00            NaN  24600001    1610610035   \n",
      "1  1946-11-02 00:00:00            NaN  24600003    1610610034   \n",
      "2  1946-11-02 00:00:00            NaN  24600002    1610612738   \n",
      "3  1946-11-02 00:00:00            NaN  24600004    1610610025   \n",
      "4  1946-11-02 00:00:00            NaN  24600005    1610610036   \n",
      "\n",
      "  team_abbreviation_home team_city_name_home team_nickname_home  \\\n",
      "0                    HUS             Toronto            Huskies   \n",
      "1                    BOM           St. Louis            Bombers   \n",
      "2                    BOS              Boston            Celtics   \n",
      "3                    CHS             Chicago              Stags   \n",
      "4                    WAS          Washington           Capitols   \n",
      "\n",
      "  team_wins_losses_home  pts_qtr1_home  pts_qtr2_home  ...  pts_ot2_away  \\\n",
      "0                     -            NaN            NaN  ...           NaN   \n",
      "1                     -           16.0           16.0  ...           NaN   \n",
      "2                     -           10.0           16.0  ...           NaN   \n",
      "3                     -            NaN            NaN  ...           NaN   \n",
      "4                     -           21.0            4.0  ...           NaN   \n",
      "\n",
      "   pts_ot3_away  pts_ot4_away  pts_ot5_away  pts_ot6_away  pts_ot7_away  \\\n",
      "0           NaN           NaN           NaN           NaN           NaN   \n",
      "1           NaN           NaN           NaN           NaN           NaN   \n",
      "2           NaN           NaN           NaN           NaN           NaN   \n",
      "3           NaN           NaN           NaN           NaN           NaN   \n",
      "4           NaN           NaN           NaN           NaN           NaN   \n",
      "\n",
      "   pts_ot8_away  pts_ot9_away  pts_ot10_away  pts_away  \n",
      "0           NaN           NaN            NaN      68.0  \n",
      "1           NaN           NaN            NaN      51.0  \n",
      "2           NaN           NaN            NaN      59.0  \n",
      "3           NaN           NaN            NaN      47.0  \n",
      "4           NaN           NaN            NaN      33.0  \n",
      "\n",
      "[5 rows x 43 columns]\n"
     ]
    }
   ],
   "source": [
    "# Leer el archivo CSV line_score\n",
    "df_line_score = pd.read_csv(r'C:\\Users\\PC\\Documents\\HENRY\\MOD PROYECTO FINAL\\base datos\\csv\\line_score.csv')\n",
    "\n",
    "# Ver las primeras 5 filas\n",
    "print(df_line_score.head())\n"
   ]
  },
  {
   "cell_type": "code",
   "execution_count": 34,
   "id": "f34a1926",
   "metadata": {},
   "outputs": [
    {
     "name": "stdout",
     "output_type": "stream",
     "text": [
      "Index(['game_date_est', 'game_sequence', 'game_id', 'team_id_home',\n",
      "       'team_abbreviation_home', 'team_city_name_home', 'team_nickname_home',\n",
      "       'team_wins_losses_home', 'pts_qtr1_home', 'pts_qtr2_home',\n",
      "       'pts_qtr3_home', 'pts_qtr4_home', 'pts_ot1_home', 'pts_ot2_home',\n",
      "       'pts_ot3_home', 'pts_ot4_home', 'pts_ot5_home', 'pts_ot6_home',\n",
      "       'pts_ot7_home', 'pts_ot8_home', 'pts_ot9_home', 'pts_ot10_home',\n",
      "       'pts_home', 'team_id_away', 'team_abbreviation_away',\n",
      "       'team_city_name_away', 'team_nickname_away', 'team_wins_losses_away',\n",
      "       'pts_qtr1_away', 'pts_qtr2_away', 'pts_qtr3_away', 'pts_qtr4_away',\n",
      "       'pts_ot1_away', 'pts_ot2_away', 'pts_ot3_away', 'pts_ot4_away',\n",
      "       'pts_ot5_away', 'pts_ot6_away', 'pts_ot7_away', 'pts_ot8_away',\n",
      "       'pts_ot9_away', 'pts_ot10_away', 'pts_away'],\n",
      "      dtype='object')\n"
     ]
    }
   ],
   "source": [
    "# Limpiar los nombres de columnas\n",
    "\n",
    "df_line_score.columns = df_line_score.columns.str.strip().str.lower().str.replace(' ', '_')\n",
    "print(df_line_score.columns)\n"
   ]
  },
  {
   "cell_type": "code",
   "execution_count": 35,
   "id": "b5ee6b3c",
   "metadata": {},
   "outputs": [
    {
     "name": "stdout",
     "output_type": "stream",
     "text": [
      "game_date_est                 0\n",
      "game_sequence             25532\n",
      "game_id                       0\n",
      "team_id_home                  0\n",
      "team_abbreviation_home        0\n",
      "team_city_name_home           0\n",
      "team_nickname_home            0\n",
      "team_wins_losses_home         0\n",
      "pts_qtr1_home              1004\n",
      "pts_qtr2_home              1013\n",
      "pts_qtr3_home              1045\n",
      "pts_qtr4_home              1044\n",
      "pts_ot1_home              25759\n",
      "pts_ot2_home              27051\n",
      "pts_ot3_home              27243\n",
      "pts_ot4_home              27270\n",
      "pts_ot5_home              45577\n",
      "pts_ot6_home              45578\n",
      "pts_ot7_home              45578\n",
      "pts_ot8_home              45578\n",
      "pts_ot9_home              45578\n",
      "pts_ot10_home             45578\n",
      "pts_home                      0\n",
      "team_id_away                  0\n",
      "team_abbreviation_away        0\n",
      "team_city_name_away           0\n",
      "team_nickname_away            0\n",
      "team_wins_losses_away         0\n",
      "pts_qtr1_away              1010\n",
      "pts_qtr2_away              1013\n",
      "pts_qtr3_away              1046\n",
      "pts_qtr4_away              1046\n",
      "pts_ot1_away              25759\n",
      "pts_ot2_away              27051\n",
      "pts_ot3_away              27243\n",
      "pts_ot4_away              27270\n",
      "pts_ot5_away              45577\n",
      "pts_ot6_away              45578\n",
      "pts_ot7_away              45578\n",
      "pts_ot8_away              45578\n",
      "pts_ot9_away              45578\n",
      "pts_ot10_away             45578\n",
      "pts_away                      0\n",
      "dtype: int64\n"
     ]
    }
   ],
   "source": [
    "#Ver si hay valores faltantes\n",
    "\n",
    "print(df_line_score.isnull().sum())\n"
   ]
  },
  {
   "cell_type": "code",
   "execution_count": 36,
   "id": "c5690f67",
   "metadata": {},
   "outputs": [
    {
     "name": "stdout",
     "output_type": "stream",
     "text": [
      "game_date_est              object\n",
      "game_sequence             float64\n",
      "game_id                     int64\n",
      "team_id_home                int64\n",
      "team_abbreviation_home     object\n",
      "team_city_name_home        object\n",
      "team_nickname_home         object\n",
      "team_wins_losses_home      object\n",
      "pts_qtr1_home             float64\n",
      "pts_qtr2_home             float64\n",
      "pts_qtr3_home             float64\n",
      "pts_qtr4_home             float64\n",
      "pts_ot1_home              float64\n",
      "pts_ot2_home              float64\n",
      "pts_ot3_home              float64\n",
      "pts_ot4_home              float64\n",
      "pts_ot5_home              float64\n",
      "pts_ot6_home              float64\n",
      "pts_ot7_home              float64\n",
      "pts_ot8_home              float64\n",
      "pts_ot9_home              float64\n",
      "pts_ot10_home             float64\n",
      "pts_home                  float64\n",
      "team_id_away                int64\n",
      "team_abbreviation_away     object\n",
      "team_city_name_away        object\n",
      "team_nickname_away         object\n",
      "team_wins_losses_away      object\n",
      "pts_qtr1_away             float64\n",
      "pts_qtr2_away             float64\n",
      "pts_qtr3_away             float64\n",
      "pts_qtr4_away             float64\n",
      "pts_ot1_away              float64\n",
      "pts_ot2_away              float64\n",
      "pts_ot3_away              float64\n",
      "pts_ot4_away              float64\n",
      "pts_ot5_away              float64\n",
      "pts_ot6_away              float64\n",
      "pts_ot7_away              float64\n",
      "pts_ot8_away              float64\n",
      "pts_ot9_away              float64\n",
      "pts_ot10_away             float64\n",
      "pts_away                  float64\n",
      "dtype: object\n"
     ]
    }
   ],
   "source": [
    "print(df_line_score.dtypes)\n"
   ]
  },
  {
   "cell_type": "code",
   "execution_count": 37,
   "id": "1ce3201a",
   "metadata": {},
   "outputs": [],
   "source": [
    "#Convertir columnas clave al tipo correcto\n",
    "\n",
    "df_line_score['game_date_est'] = pd.to_datetime(df_line_score['game_date_est'])\n",
    "\n",
    "df_line_score['team_id_home'] = df_line_score['team_id_home'].astype('Int64')\n",
    "\n"
   ]
  },
  {
   "cell_type": "code",
   "execution_count": 38,
   "id": "2df82e5d",
   "metadata": {},
   "outputs": [
    {
     "name": "stdout",
     "output_type": "stream",
     "text": [
      "  game_date_est  game_sequence   game_id  team_id_home team_abbreviation_home  \\\n",
      "0    1946-11-01            NaN  24600001    1610610035                    HUS   \n",
      "1    1946-11-02            NaN  24600003    1610610034                    BOM   \n",
      "2    1946-11-02            NaN  24600002    1610612738                    BOS   \n",
      "3    1946-11-02            NaN  24600004    1610610025                    CHS   \n",
      "4    1946-11-02            NaN  24600005    1610610036                    WAS   \n",
      "\n",
      "  team_city_name_home team_nickname_home team_wins_losses_home  pts_qtr1_home  \\\n",
      "0             Toronto            Huskies                     -            NaN   \n",
      "1           St. Louis            Bombers                     -           16.0   \n",
      "2              Boston            Celtics                     -           10.0   \n",
      "3             Chicago              Stags                     -            NaN   \n",
      "4          Washington           Capitols                     -           21.0   \n",
      "\n",
      "   pts_qtr2_home  ...  pts_ot2_away  pts_ot3_away  pts_ot4_away  pts_ot5_away  \\\n",
      "0            NaN  ...           NaN           NaN           NaN           NaN   \n",
      "1           16.0  ...           NaN           NaN           NaN           NaN   \n",
      "2           16.0  ...           NaN           NaN           NaN           NaN   \n",
      "3            NaN  ...           NaN           NaN           NaN           NaN   \n",
      "4            4.0  ...           NaN           NaN           NaN           NaN   \n",
      "\n",
      "   pts_ot6_away  pts_ot7_away  pts_ot8_away  pts_ot9_away  pts_ot10_away  \\\n",
      "0           NaN           NaN           NaN           NaN            NaN   \n",
      "1           NaN           NaN           NaN           NaN            NaN   \n",
      "2           NaN           NaN           NaN           NaN            NaN   \n",
      "3           NaN           NaN           NaN           NaN            NaN   \n",
      "4           NaN           NaN           NaN           NaN            NaN   \n",
      "\n",
      "   pts_away  \n",
      "0      68.0  \n",
      "1      51.0  \n",
      "2      59.0  \n",
      "3      47.0  \n",
      "4      33.0  \n",
      "\n",
      "[5 rows x 43 columns]\n"
     ]
    }
   ],
   "source": [
    "# Ver las primeras 5 filas\n",
    "print(df_line_score.head())\n"
   ]
  },
  {
   "cell_type": "code",
   "execution_count": 39,
   "id": "ae2c9a5e",
   "metadata": {},
   "outputs": [
    {
     "name": "stdout",
     "output_type": "stream",
     "text": [
      "Filas duplicadas: 40\n"
     ]
    }
   ],
   "source": [
    "# Verificación de duplicados\n",
    "\n",
    "duplicados = df_line_score.duplicated()\n",
    "print(f'Filas duplicadas: {duplicados.sum()}')\n"
   ]
  },
  {
   "cell_type": "code",
   "execution_count": 40,
   "id": "9684df70",
   "metadata": {},
   "outputs": [
    {
     "name": "stdout",
     "output_type": "stream",
     "text": [
      "Duplicados por game_id: 40\n"
     ]
    }
   ],
   "source": [
    "# Ver si hay duplicados por columna clave (ej: game_id)\n",
    "\n",
    "duplicados_game_id = df_line_score.duplicated(subset='game_id')\n",
    "print(f\"Duplicados por game_id: {duplicados_game_id.sum()}\")\n"
   ]
  },
  {
   "cell_type": "code",
   "execution_count": 41,
   "id": "a916939e",
   "metadata": {},
   "outputs": [],
   "source": [
    "# Eliminar duplicados exactos en todas las columnas\n",
    "\n",
    "df_line_score = df_line_score.drop_duplicates()\n"
   ]
  },
  {
   "cell_type": "code",
   "execution_count": 42,
   "id": "c2f4596e",
   "metadata": {},
   "outputs": [
    {
     "name": "stdout",
     "output_type": "stream",
     "text": [
      "Después de eliminar duplicados:\n",
      "0\n"
     ]
    }
   ],
   "source": [
    "print(\"Después de eliminar duplicados:\")\n",
    "print(df_line_score.duplicated().sum())\n"
   ]
  },
  {
   "cell_type": "code",
   "execution_count": 43,
   "id": "470947bc",
   "metadata": {},
   "outputs": [
    {
     "name": "stdout",
     "output_type": "stream",
     "text": [
      "game_date_est              0.00\n",
      "game_sequence             44.01\n",
      "game_id                    0.00\n",
      "team_id_home               0.00\n",
      "team_abbreviation_home     0.00\n",
      "team_city_name_home        0.00\n",
      "team_nickname_home         0.00\n",
      "team_wins_losses_home      0.00\n",
      "pts_qtr1_home              1.73\n",
      "pts_qtr2_home              1.75\n",
      "pts_qtr3_home              1.80\n",
      "pts_qtr4_home              1.80\n",
      "pts_ot1_home              44.40\n",
      "pts_ot2_home              46.58\n",
      "pts_ot3_home              46.91\n",
      "pts_ot4_home              46.96\n",
      "pts_ot5_home              78.51\n",
      "pts_ot6_home              78.51\n",
      "pts_ot7_home              78.51\n",
      "pts_ot8_home              78.51\n",
      "pts_ot9_home              78.51\n",
      "pts_ot10_home             78.51\n",
      "pts_home                   0.00\n",
      "team_id_away               0.00\n",
      "team_abbreviation_away     0.00\n",
      "team_city_name_away        0.00\n",
      "team_nickname_away         0.00\n",
      "team_wins_losses_away      0.00\n",
      "pts_qtr1_away              1.74\n",
      "pts_qtr2_away              1.75\n",
      "pts_qtr3_away              1.80\n",
      "pts_qtr4_away              1.80\n",
      "pts_ot1_away              44.40\n",
      "pts_ot2_away              46.58\n",
      "pts_ot3_away              46.91\n",
      "pts_ot4_away              46.96\n",
      "pts_ot5_away              78.51\n",
      "pts_ot6_away              78.51\n",
      "pts_ot7_away              78.51\n",
      "pts_ot8_away              78.51\n",
      "pts_ot9_away              78.51\n",
      "pts_ot10_away             78.51\n",
      "pts_away                   0.00\n",
      "dtype: float64\n"
     ]
    }
   ],
   "source": [
    "#Ver porcentaje de valores faltantes por columna\n",
    "\n",
    "porcentaje_nulos = (df_line_score.isnull().mean() * 100).round(2)\n",
    "print(porcentaje_nulos)\n"
   ]
  },
  {
   "cell_type": "code",
   "execution_count": 44,
   "id": "6a325dac",
   "metadata": {},
   "outputs": [
    {
     "name": "stdout",
     "output_type": "stream",
     "text": [
      "game_sequence    25532\n",
      "pts_qtr1_home     1004\n",
      "pts_qtr2_home     1013\n",
      "pts_qtr3_home     1045\n",
      "pts_qtr4_home     1044\n",
      "pts_ot1_home     25759\n",
      "pts_ot2_home     27024\n",
      "pts_ot3_home     27216\n",
      "pts_ot4_home     27243\n",
      "pts_ot5_home     45545\n",
      "pts_ot6_home     45546\n",
      "pts_ot7_home     45546\n",
      "pts_ot8_home     45546\n",
      "pts_ot9_home     45546\n",
      "pts_ot10_home    45546\n",
      "pts_qtr1_away     1010\n",
      "pts_qtr2_away     1013\n",
      "pts_qtr3_away     1046\n",
      "pts_qtr4_away     1046\n",
      "pts_ot1_away     25759\n",
      "pts_ot2_away     27024\n",
      "pts_ot3_away     27216\n",
      "pts_ot4_away     27243\n",
      "pts_ot5_away     45545\n",
      "pts_ot6_away     45546\n",
      "pts_ot7_away     45546\n",
      "pts_ot8_away     45546\n",
      "pts_ot9_away     45546\n",
      "pts_ot10_away    45546\n",
      "dtype: int64\n"
     ]
    }
   ],
   "source": [
    "#Ver solo las columnas que tienen valores faltantes\n",
    "\n",
    "faltantes = df_line_score.isnull().sum()\n",
    "faltantes = faltantes[faltantes > 0]\n",
    "print(faltantes)\n"
   ]
  },
  {
   "cell_type": "code",
   "execution_count": 45,
   "id": "2cba7859",
   "metadata": {},
   "outputs": [
    {
     "name": "stdout",
     "output_type": "stream",
     "text": [
      "Valores faltantes restantes:\n",
      "game_sequence    0\n",
      "pts_qtr1_home    0\n",
      "pts_qtr2_home    0\n",
      "pts_qtr3_home    0\n",
      "pts_qtr4_home    0\n",
      "pts_ot1_home     0\n",
      "pts_ot2_home     0\n",
      "pts_ot3_home     0\n",
      "pts_ot4_home     0\n",
      "pts_ot5_home     0\n",
      "pts_ot6_home     0\n",
      "pts_ot7_home     0\n",
      "pts_ot8_home     0\n",
      "pts_ot9_home     0\n",
      "pts_ot10_home    0\n",
      "pts_qtr1_away    0\n",
      "pts_qtr2_away    0\n",
      "pts_qtr3_away    0\n",
      "pts_qtr4_away    0\n",
      "pts_ot1_away     0\n",
      "pts_ot2_away     0\n",
      "pts_ot3_away     0\n",
      "pts_ot4_away     0\n",
      "pts_ot5_away     0\n",
      "pts_ot6_away     0\n",
      "pts_ot7_away     0\n",
      "pts_ot8_away     0\n",
      "pts_ot9_away     0\n",
      "pts_ot10_away    0\n",
      "dtype: int64\n"
     ]
    }
   ],
   "source": [
    "#tratamiento de valores faltantes\n",
    "\n",
    "# Tratamiento de valores faltantes en game_sequence\n",
    "if 'game_sequence' in df_line_score.columns:\n",
    "    df_line_score['game_sequence'] = df_line_score['game_sequence'].fillna(-1).astype('Int64')\n",
    "\n",
    "# Lista de columnas de puntos por cuarto y overtime (home y away)\n",
    "columnas_puntos = [\n",
    "    'pts_qtr1_home', 'pts_qtr2_home', 'pts_qtr3_home', 'pts_qtr4_home',\n",
    "    'pts_ot1_home', 'pts_ot2_home', 'pts_ot3_home', 'pts_ot4_home', 'pts_ot5_home',\n",
    "    'pts_ot6_home', 'pts_ot7_home', 'pts_ot8_home', 'pts_ot9_home', 'pts_ot10_home',\n",
    "    'pts_qtr1_away', 'pts_qtr2_away', 'pts_qtr3_away', 'pts_qtr4_away',\n",
    "    'pts_ot1_away', 'pts_ot2_away', 'pts_ot3_away', 'pts_ot4_away', 'pts_ot5_away',\n",
    "    'pts_ot6_away', 'pts_ot7_away', 'pts_ot8_away', 'pts_ot9_away', 'pts_ot10_away'\n",
    "]\n",
    "\n",
    "# Rellenar valores faltantes con 0 para puntos y convertir a enteros\n",
    "for col in columnas_puntos:\n",
    "    if col in df_line_score.columns:\n",
    "        df_line_score[col] = df_line_score[col].fillna(0).astype('Int64')\n",
    "\n",
    "# Verificación final: mostrar si quedan nulos\n",
    "print(\"Valores faltantes restantes:\")\n",
    "print(df_line_score[['game_sequence'] + columnas_puntos].isnull().sum())\n"
   ]
  },
  {
   "cell_type": "code",
   "execution_count": 46,
   "id": "03d10d7d",
   "metadata": {},
   "outputs": [
    {
     "name": "stdout",
     "output_type": "stream",
     "text": [
      "  game_date_est  game_sequence   game_id  team_id_home team_abbreviation_home  \\\n",
      "0    1946-11-01             -1  24600001    1610610035                    HUS   \n",
      "1    1946-11-02             -1  24600003    1610610034                    BOM   \n",
      "2    1946-11-02             -1  24600002    1610612738                    BOS   \n",
      "3    1946-11-02             -1  24600004    1610610025                    CHS   \n",
      "4    1946-11-02             -1  24600005    1610610036                    WAS   \n",
      "\n",
      "  team_city_name_home team_nickname_home team_wins_losses_home  pts_qtr1_home  \\\n",
      "0             Toronto            Huskies                     -              0   \n",
      "1           St. Louis            Bombers                     -             16   \n",
      "2              Boston            Celtics                     -             10   \n",
      "3             Chicago              Stags                     -              0   \n",
      "4          Washington           Capitols                     -             21   \n",
      "\n",
      "   pts_qtr2_home  ...  pts_ot2_away  pts_ot3_away  pts_ot4_away  pts_ot5_away  \\\n",
      "0              0  ...             0             0             0             0   \n",
      "1             16  ...             0             0             0             0   \n",
      "2             16  ...             0             0             0             0   \n",
      "3              0  ...             0             0             0             0   \n",
      "4              4  ...             0             0             0             0   \n",
      "\n",
      "   pts_ot6_away  pts_ot7_away  pts_ot8_away  pts_ot9_away  pts_ot10_away  \\\n",
      "0             0             0             0             0              0   \n",
      "1             0             0             0             0              0   \n",
      "2             0             0             0             0              0   \n",
      "3             0             0             0             0              0   \n",
      "4             0             0             0             0              0   \n",
      "\n",
      "   pts_away  \n",
      "0      68.0  \n",
      "1      51.0  \n",
      "2      59.0  \n",
      "3      47.0  \n",
      "4      33.0  \n",
      "\n",
      "[5 rows x 43 columns]\n"
     ]
    }
   ],
   "source": [
    "# Ver las primeras 5 filas\n",
    "print(df_line_score.head())\n"
   ]
  },
  {
   "cell_type": "code",
   "execution_count": 47,
   "id": "a15131fd",
   "metadata": {},
   "outputs": [
    {
     "name": "stdout",
     "output_type": "stream",
     "text": [
      "    game_id  league_id  team_id_home team_abbreviation_home team_city_home  \\\n",
      "0  29600012          0    1610612756                    PHX        Phoenix   \n",
      "1  29600005          0    1610612737                    ATL        Atlanta   \n",
      "2  29600002          0    1610612739                    CLE      Cleveland   \n",
      "3  29600007          0    1610612754                    IND        Indiana   \n",
      "4  29600013          0    1610612746                    LAC    Los Angeles   \n",
      "\n",
      "   pts_paint_home  pts_2nd_chance_home  pts_fb_home  largest_lead_home  \\\n",
      "0              44                   18            2                  1   \n",
      "1              32                    9            6                  0   \n",
      "2              36                   14            6                 20   \n",
      "3              34                   11            4                 10   \n",
      "4              40                   19            2                 12   \n",
      "\n",
      "   lead_changes  ...  team_abbreviation_away  team_city_away  pts_paint_away  \\\n",
      "0             4  ...                     LAL     Los Angeles              42   \n",
      "1             0  ...                     MIA           Miami              32   \n",
      "2             1  ...                     NJN      New Jersey              26   \n",
      "3             7  ...                     DET         Detroit              30   \n",
      "4             5  ...                     GSW    Golden State              30   \n",
      "\n",
      "   pts_2nd_chance_away  pts_fb_away  largest_lead_away team_turnovers_away  \\\n",
      "0                   10           13                 19                 0.0   \n",
      "1                   15           14                 16                 1.0   \n",
      "2                   16            4                  2                 1.0   \n",
      "3                   14            7                  9                 2.0   \n",
      "4                    9            2                  6                 0.0   \n",
      "\n",
      "  total_turnovers_away  team_rebounds_away  pts_off_to_away  \n",
      "0                 23.0                11.0              NaN  \n",
      "1                 19.0                 6.0              NaN  \n",
      "2                 22.0                12.0              NaN  \n",
      "3                 19.0                10.0              NaN  \n",
      "4                 20.0                 7.0              NaN  \n",
      "\n",
      "[5 rows x 26 columns]\n"
     ]
    }
   ],
   "source": [
    "# Leer el archivo CSV other_stats\n",
    "df_other_stats = pd.read_csv(r'C:\\Users\\PC\\Documents\\HENRY\\MOD PROYECTO FINAL\\base datos\\csv\\other_stats.csv')\n",
    "\n",
    "# Ver las primeras 5 filas\n",
    "print(df_other_stats.head())\n"
   ]
  },
  {
   "cell_type": "code",
   "execution_count": 48,
   "id": "c61cf7c8",
   "metadata": {},
   "outputs": [
    {
     "name": "stdout",
     "output_type": "stream",
     "text": [
      "Index(['game_id', 'league_id', 'team_id_home', 'team_abbreviation_home',\n",
      "       'team_city_home', 'pts_paint_home', 'pts_2nd_chance_home',\n",
      "       'pts_fb_home', 'largest_lead_home', 'lead_changes', 'times_tied',\n",
      "       'team_turnovers_home', 'total_turnovers_home', 'team_rebounds_home',\n",
      "       'pts_off_to_home', 'team_id_away', 'team_abbreviation_away',\n",
      "       'team_city_away', 'pts_paint_away', 'pts_2nd_chance_away',\n",
      "       'pts_fb_away', 'largest_lead_away', 'team_turnovers_away',\n",
      "       'total_turnovers_away', 'team_rebounds_away', 'pts_off_to_away'],\n",
      "      dtype='object')\n"
     ]
    }
   ],
   "source": [
    "#Limpiar los nombres de columnas\n",
    "\n",
    "df_other_stats.columns = df_other_stats.columns.str.strip().str.lower().str.replace(' ', '_')\n",
    "print(df_other_stats.columns)\n"
   ]
  },
  {
   "cell_type": "code",
   "execution_count": 49,
   "id": "aaed6cb2",
   "metadata": {},
   "outputs": [
    {
     "name": "stdout",
     "output_type": "stream",
     "text": [
      "game_id                      0\n",
      "league_id                    0\n",
      "team_id_home                 0\n",
      "team_abbreviation_home       0\n",
      "team_city_home               0\n",
      "pts_paint_home               0\n",
      "pts_2nd_chance_home          0\n",
      "pts_fb_home                  0\n",
      "largest_lead_home            0\n",
      "lead_changes                 0\n",
      "times_tied                   0\n",
      "team_turnovers_home          2\n",
      "total_turnovers_home       316\n",
      "team_rebounds_home        1998\n",
      "pts_off_to_home           2123\n",
      "team_id_away                 0\n",
      "team_abbreviation_away       0\n",
      "team_city_away               0\n",
      "pts_paint_away               0\n",
      "pts_2nd_chance_away          0\n",
      "pts_fb_away                  0\n",
      "largest_lead_away            0\n",
      "team_turnovers_away          2\n",
      "total_turnovers_away       316\n",
      "team_rebounds_away        1998\n",
      "pts_off_to_away           2123\n",
      "dtype: int64\n"
     ]
    }
   ],
   "source": [
    "#Ver si hay valores faltantes\n",
    "\n",
    "print(df_other_stats.isnull().sum())\n"
   ]
  },
  {
   "cell_type": "code",
   "execution_count": 50,
   "id": "a9fc43df",
   "metadata": {},
   "outputs": [
    {
     "name": "stdout",
     "output_type": "stream",
     "text": [
      "game_id                     int64\n",
      "league_id                   int64\n",
      "team_id_home                int64\n",
      "team_abbreviation_home     object\n",
      "team_city_home             object\n",
      "pts_paint_home              int64\n",
      "pts_2nd_chance_home         int64\n",
      "pts_fb_home                 int64\n",
      "largest_lead_home           int64\n",
      "lead_changes                int64\n",
      "times_tied                  int64\n",
      "team_turnovers_home       float64\n",
      "total_turnovers_home      float64\n",
      "team_rebounds_home        float64\n",
      "pts_off_to_home           float64\n",
      "team_id_away                int64\n",
      "team_abbreviation_away     object\n",
      "team_city_away             object\n",
      "pts_paint_away              int64\n",
      "pts_2nd_chance_away         int64\n",
      "pts_fb_away                 int64\n",
      "largest_lead_away           int64\n",
      "team_turnovers_away       float64\n",
      "total_turnovers_away      float64\n",
      "team_rebounds_away        float64\n",
      "pts_off_to_away           float64\n",
      "dtype: object\n"
     ]
    }
   ],
   "source": [
    "print(df_other_stats.dtypes)\n"
   ]
  },
  {
   "cell_type": "code",
   "execution_count": 51,
   "id": "505328fd",
   "metadata": {},
   "outputs": [],
   "source": [
    "#Convertir columnas clave al tipo correcto\n",
    "\n",
    "df_other_stats['team_id_home'] = df_other_stats['team_id_home'].astype('Int64')\n"
   ]
  },
  {
   "cell_type": "code",
   "execution_count": 52,
   "id": "dc43fcde",
   "metadata": {},
   "outputs": [
    {
     "name": "stdout",
     "output_type": "stream",
     "text": [
      "    game_id  league_id  team_id_home team_abbreviation_home team_city_home  \\\n",
      "0  29600012          0    1610612756                    PHX        Phoenix   \n",
      "1  29600005          0    1610612737                    ATL        Atlanta   \n",
      "2  29600002          0    1610612739                    CLE      Cleveland   \n",
      "3  29600007          0    1610612754                    IND        Indiana   \n",
      "4  29600013          0    1610612746                    LAC    Los Angeles   \n",
      "\n",
      "   pts_paint_home  pts_2nd_chance_home  pts_fb_home  largest_lead_home  \\\n",
      "0              44                   18            2                  1   \n",
      "1              32                    9            6                  0   \n",
      "2              36                   14            6                 20   \n",
      "3              34                   11            4                 10   \n",
      "4              40                   19            2                 12   \n",
      "\n",
      "   lead_changes  ...  team_abbreviation_away  team_city_away  pts_paint_away  \\\n",
      "0             4  ...                     LAL     Los Angeles              42   \n",
      "1             0  ...                     MIA           Miami              32   \n",
      "2             1  ...                     NJN      New Jersey              26   \n",
      "3             7  ...                     DET         Detroit              30   \n",
      "4             5  ...                     GSW    Golden State              30   \n",
      "\n",
      "   pts_2nd_chance_away  pts_fb_away  largest_lead_away team_turnovers_away  \\\n",
      "0                   10           13                 19                 0.0   \n",
      "1                   15           14                 16                 1.0   \n",
      "2                   16            4                  2                 1.0   \n",
      "3                   14            7                  9                 2.0   \n",
      "4                    9            2                  6                 0.0   \n",
      "\n",
      "  total_turnovers_away  team_rebounds_away  pts_off_to_away  \n",
      "0                 23.0                11.0              NaN  \n",
      "1                 19.0                 6.0              NaN  \n",
      "2                 22.0                12.0              NaN  \n",
      "3                 19.0                10.0              NaN  \n",
      "4                 20.0                 7.0              NaN  \n",
      "\n",
      "[5 rows x 26 columns]\n"
     ]
    }
   ],
   "source": [
    "# Ver las primeras 5 filas\n",
    "\n",
    "print(df_other_stats.head())\n"
   ]
  },
  {
   "cell_type": "code",
   "execution_count": 53,
   "id": "24c8b59f",
   "metadata": {},
   "outputs": [
    {
     "name": "stdout",
     "output_type": "stream",
     "text": [
      "Filas duplicadas: 10\n"
     ]
    }
   ],
   "source": [
    "# Verificación de duplicados\n",
    "\n",
    "duplicados = df_other_stats.duplicated()\n",
    "print(f'Filas duplicadas: {duplicados.sum()}')\n"
   ]
  },
  {
   "cell_type": "code",
   "execution_count": 54,
   "id": "088ebc39",
   "metadata": {},
   "outputs": [
    {
     "name": "stdout",
     "output_type": "stream",
     "text": [
      "Duplicados por game_id: 10\n"
     ]
    }
   ],
   "source": [
    "# Ver si hay duplicados por columna clave (ej: game_id)\n",
    "\n",
    "duplicados_game_id = df_other_stats.duplicated(subset='game_id')\n",
    "print(f\"Duplicados por game_id: {duplicados_game_id.sum()}\")\n"
   ]
  },
  {
   "cell_type": "code",
   "execution_count": 55,
   "id": "35ed952e",
   "metadata": {},
   "outputs": [],
   "source": [
    "# Eliminar duplicados exactos en todas las columnas\n",
    "\n",
    "df_other_stats = df_other_stats.drop_duplicates()\n"
   ]
  },
  {
   "cell_type": "code",
   "execution_count": 56,
   "id": "98855cff",
   "metadata": {},
   "outputs": [
    {
     "name": "stdout",
     "output_type": "stream",
     "text": [
      "Después de eliminar duplicados:\n",
      "0\n"
     ]
    }
   ],
   "source": [
    "print(\"Después de eliminar duplicados:\")\n",
    "print(df_other_stats.duplicated().sum())\n"
   ]
  },
  {
   "cell_type": "code",
   "execution_count": 57,
   "id": "922c198f",
   "metadata": {},
   "outputs": [
    {
     "name": "stdout",
     "output_type": "stream",
     "text": [
      "game_id                   0.00\n",
      "league_id                 0.00\n",
      "team_id_home              0.00\n",
      "team_abbreviation_home    0.00\n",
      "team_city_home            0.00\n",
      "pts_paint_home            0.00\n",
      "pts_2nd_chance_home       0.00\n",
      "pts_fb_home               0.00\n",
      "largest_lead_home         0.00\n",
      "lead_changes              0.00\n",
      "times_tied                0.00\n",
      "team_turnovers_home       0.00\n",
      "total_turnovers_home      1.11\n",
      "team_rebounds_home        7.07\n",
      "pts_off_to_home           7.51\n",
      "team_id_away              0.00\n",
      "team_abbreviation_away    0.00\n",
      "team_city_away            0.00\n",
      "pts_paint_away            0.00\n",
      "pts_2nd_chance_away       0.00\n",
      "pts_fb_away               0.00\n",
      "largest_lead_away         0.00\n",
      "team_turnovers_away       0.00\n",
      "total_turnovers_away      1.11\n",
      "team_rebounds_away        7.07\n",
      "pts_off_to_away           7.51\n",
      "dtype: float64\n"
     ]
    }
   ],
   "source": [
    "#Ver porcentaje de valores faltantes por columna\n",
    "porcentaje_nulos = (df_other_stats.isnull().mean() * 100).round(2)\n",
    "print(porcentaje_nulos)\n"
   ]
  },
  {
   "cell_type": "code",
   "execution_count": 58,
   "id": "b913a630",
   "metadata": {},
   "outputs": [
    {
     "name": "stdout",
     "output_type": "stream",
     "text": [
      "team_turnovers_home        1\n",
      "total_turnovers_home     315\n",
      "team_rebounds_home      1997\n",
      "pts_off_to_home         2122\n",
      "team_turnovers_away        1\n",
      "total_turnovers_away     315\n",
      "team_rebounds_away      1997\n",
      "pts_off_to_away         2122\n",
      "dtype: int64\n"
     ]
    }
   ],
   "source": [
    "#Ver solo las columnas que tienen valores faltantes\n",
    "\n",
    "faltantes = df_other_stats.isnull().sum()\n",
    "faltantes = faltantes[faltantes > 0]\n",
    "print(faltantes)\n"
   ]
  },
  {
   "cell_type": "code",
   "execution_count": 59,
   "id": "47b23c6a",
   "metadata": {},
   "outputs": [
    {
     "name": "stdout",
     "output_type": "stream",
     "text": [
      "Valores faltantes restantes:\n",
      "team_turnovers_home     0\n",
      "total_turnovers_home    0\n",
      "team_rebounds_home      0\n",
      "pts_off_to_home         0\n",
      "team_turnovers_away     0\n",
      "total_turnovers_away    0\n",
      "team_rebounds_away      0\n",
      "pts_off_to_away         0\n",
      "dtype: int64\n"
     ]
    }
   ],
   "source": [
    "#tratamiento de valores faltantes\n",
    "\n",
    "\n",
    "# Rellenar team_turnovers con 0 (muy pocos faltantes)\n",
    "df_other_stats['team_turnovers_home'] = df_other_stats['team_turnovers_home'].fillna(0).astype('Int64')\n",
    "df_other_stats['team_turnovers_away'] = df_other_stats['team_turnovers_away'].fillna(0).astype('Int64')\n",
    "\n",
    "# Rellenar total_turnovers con la mediana\n",
    "df_other_stats['total_turnovers_home'] = df_other_stats['total_turnovers_home'].fillna(\n",
    "    df_other_stats['total_turnovers_home'].median()).astype('Int64')\n",
    "\n",
    "df_other_stats['total_turnovers_away'] = df_other_stats['total_turnovers_away'].fillna(\n",
    "    df_other_stats['total_turnovers_away'].median()).astype('Int64')\n",
    "\n",
    "# Rellenar team_rebounds con la mediana\n",
    "df_other_stats['team_rebounds_home'] = df_other_stats['team_rebounds_home'].fillna(\n",
    "    df_other_stats['team_rebounds_home'].median()).astype('Int64')\n",
    "\n",
    "df_other_stats['team_rebounds_away'] = df_other_stats['team_rebounds_away'].fillna(\n",
    "    df_other_stats['team_rebounds_away'].median()).astype('Int64')\n",
    "\n",
    "# Rellenar pts_off_to (puntos por pérdidas) con 0\n",
    "df_other_stats['pts_off_to_home'] = df_other_stats['pts_off_to_home'].fillna(0).astype('Int64')\n",
    "df_other_stats['pts_off_to_away'] = df_other_stats['pts_off_to_away'].fillna(0).astype('Int64')\n",
    "\n",
    "# Verificar si quedan valores faltantes\n",
    "print(\"Valores faltantes restantes:\")\n",
    "print(df_other_stats[['team_turnovers_home', 'total_turnovers_home', 'team_rebounds_home', 'pts_off_to_home',\n",
    "                      'team_turnovers_away', 'total_turnovers_away', 'team_rebounds_away', 'pts_off_to_away']].isnull().sum())\n"
   ]
  },
  {
   "cell_type": "code",
   "execution_count": 60,
   "id": "82eb8aa6",
   "metadata": {},
   "outputs": [
    {
     "name": "stdout",
     "output_type": "stream",
     "text": [
      "    game_id  league_id  team_id_home team_abbreviation_home team_city_home  \\\n",
      "0  29600012          0    1610612756                    PHX        Phoenix   \n",
      "1  29600005          0    1610612737                    ATL        Atlanta   \n",
      "2  29600002          0    1610612739                    CLE      Cleveland   \n",
      "3  29600007          0    1610612754                    IND        Indiana   \n",
      "4  29600013          0    1610612746                    LAC    Los Angeles   \n",
      "\n",
      "   pts_paint_home  pts_2nd_chance_home  pts_fb_home  largest_lead_home  \\\n",
      "0              44                   18            2                  1   \n",
      "1              32                    9            6                  0   \n",
      "2              36                   14            6                 20   \n",
      "3              34                   11            4                 10   \n",
      "4              40                   19            2                 12   \n",
      "\n",
      "   lead_changes  ...  team_abbreviation_away  team_city_away  pts_paint_away  \\\n",
      "0             4  ...                     LAL     Los Angeles              42   \n",
      "1             0  ...                     MIA           Miami              32   \n",
      "2             1  ...                     NJN      New Jersey              26   \n",
      "3             7  ...                     DET         Detroit              30   \n",
      "4             5  ...                     GSW    Golden State              30   \n",
      "\n",
      "   pts_2nd_chance_away  pts_fb_away  largest_lead_away team_turnovers_away  \\\n",
      "0                   10           13                 19                   0   \n",
      "1                   15           14                 16                   1   \n",
      "2                   16            4                  2                   1   \n",
      "3                   14            7                  9                   2   \n",
      "4                    9            2                  6                   0   \n",
      "\n",
      "  total_turnovers_away  team_rebounds_away  pts_off_to_away  \n",
      "0                   23                  11                0  \n",
      "1                   19                   6                0  \n",
      "2                   22                  12                0  \n",
      "3                   19                  10                0  \n",
      "4                   20                   7                0  \n",
      "\n",
      "[5 rows x 26 columns]\n"
     ]
    }
   ],
   "source": [
    "# Ver las primeras 5 filas\n",
    "print(df_other_stats.head())\n"
   ]
  },
  {
   "cell_type": "code",
   "execution_count": 61,
   "id": "a6e63fc5",
   "metadata": {},
   "outputs": [
    {
     "name": "stdout",
     "output_type": "stream",
     "text": [
      "    game_id            game_date  attendance game_time\n",
      "0  24600001  1946-11-01 00:00:00         NaN       NaN\n",
      "1  24600003  1946-11-02 00:00:00         NaN       NaN\n",
      "2  24600002  1946-11-02 00:00:00         NaN       NaN\n",
      "3  24600004  1946-11-02 00:00:00         NaN       NaN\n",
      "4  24600005  1946-11-02 00:00:00         NaN       NaN\n"
     ]
    }
   ],
   "source": [
    "# Leer el archivo CSV game_info\n",
    "df_game_info = pd.read_csv(r'C:\\Users\\PC\\Documents\\HENRY\\MOD PROYECTO FINAL\\base datos\\csv\\game_info.csv')\n",
    "\n",
    "# Ver las primeras 5 filas\n",
    "print(df_game_info.head())\n"
   ]
  },
  {
   "cell_type": "code",
   "execution_count": 63,
   "id": "b7f20f98",
   "metadata": {},
   "outputs": [
    {
     "name": "stdout",
     "output_type": "stream",
     "text": [
      "Index(['game_id', 'game_date', 'attendance', 'game_time'], dtype='object')\n"
     ]
    }
   ],
   "source": [
    "#Limpiar los nombres de columnas\n",
    "\n",
    "df_game_info.columns = df_game_info.columns.str.strip().str.lower().str.replace(' ', '_')\n",
    "print(df_game_info.columns)\n"
   ]
  },
  {
   "cell_type": "code",
   "execution_count": 64,
   "id": "12c3be7b",
   "metadata": {},
   "outputs": [
    {
     "name": "stdout",
     "output_type": "stream",
     "text": [
      "game_id           0\n",
      "game_date         0\n",
      "attendance     5380\n",
      "game_time     28111\n",
      "dtype: int64\n"
     ]
    }
   ],
   "source": [
    "#Ver si hay valores faltantes\n",
    "\n",
    "print(df_game_info.isnull().sum())\n"
   ]
  },
  {
   "cell_type": "code",
   "execution_count": 65,
   "id": "e5120ed7",
   "metadata": {},
   "outputs": [
    {
     "name": "stdout",
     "output_type": "stream",
     "text": [
      "game_id         int64\n",
      "game_date      object\n",
      "attendance    float64\n",
      "game_time      object\n",
      "dtype: object\n"
     ]
    }
   ],
   "source": [
    "print(df_game_info.dtypes)\n"
   ]
  },
  {
   "cell_type": "code",
   "execution_count": 75,
   "id": "29f7e113",
   "metadata": {},
   "outputs": [],
   "source": [
    "#Convertir columnas clave al tipo correcto\n",
    "\n",
    "df_game_info['game_date'] = pd.to_datetime(df_game_info['game_date'])\n",
    "\n",
    "\n"
   ]
  },
  {
   "cell_type": "code",
   "execution_count": 76,
   "id": "09c33a34",
   "metadata": {},
   "outputs": [
    {
     "name": "stdout",
     "output_type": "stream",
     "text": [
      "game_id                int64\n",
      "game_date     datetime64[ns]\n",
      "attendance           float64\n",
      "dtype: object\n"
     ]
    }
   ],
   "source": [
    "print(df_game_info.dtypes)"
   ]
  },
  {
   "cell_type": "code",
   "execution_count": 77,
   "id": "def494ae",
   "metadata": {},
   "outputs": [
    {
     "name": "stdout",
     "output_type": "stream",
     "text": [
      "    game_id  game_date  attendance\n",
      "0  24600001 1946-11-01         NaN\n",
      "1  24600003 1946-11-02         NaN\n",
      "2  24600002 1946-11-02         NaN\n",
      "3  24600004 1946-11-02         NaN\n",
      "4  24600005 1946-11-02         NaN\n"
     ]
    }
   ],
   "source": [
    "# Ver las primeras 5 filas\n",
    "print(df_game_info.head())\n"
   ]
  },
  {
   "cell_type": "code",
   "execution_count": 79,
   "id": "00c1df6e",
   "metadata": {},
   "outputs": [
    {
     "name": "stdout",
     "output_type": "stream",
     "text": [
      "Filas duplicadas: 40\n"
     ]
    }
   ],
   "source": [
    "# Verificación de duplicados\n",
    "duplicados = df_game_info.duplicated()\n",
    "print(f'Filas duplicadas: {duplicados.sum()}')\n"
   ]
  },
  {
   "cell_type": "code",
   "execution_count": 80,
   "id": "cdafcb74",
   "metadata": {},
   "outputs": [
    {
     "name": "stdout",
     "output_type": "stream",
     "text": [
      "Duplicados por game_id: 40\n"
     ]
    }
   ],
   "source": [
    "# Ver si hay duplicados por columna clave (ej: game_id)\n",
    "duplicados_game_id = df_game_info.duplicated(subset='game_id')\n",
    "print(f\"Duplicados por game_id: {duplicados_game_id.sum()}\")\n"
   ]
  },
  {
   "cell_type": "code",
   "execution_count": 81,
   "id": "2a3a6373",
   "metadata": {},
   "outputs": [],
   "source": [
    "# Eliminar duplicados exactos en todas las columnas\n",
    "df_game_info = df_game_info.drop_duplicates()\n"
   ]
  },
  {
   "cell_type": "code",
   "execution_count": 82,
   "id": "a162b1af",
   "metadata": {},
   "outputs": [
    {
     "name": "stdout",
     "output_type": "stream",
     "text": [
      "Después de eliminar duplicados:\n",
      "0\n"
     ]
    }
   ],
   "source": [
    "print(\"Después de eliminar duplicados:\")\n",
    "print(df_game_info.duplicated().sum())\n"
   ]
  },
  {
   "cell_type": "code",
   "execution_count": 83,
   "id": "b64fc59e",
   "metadata": {},
   "outputs": [
    {
     "name": "stdout",
     "output_type": "stream",
     "text": [
      "game_id       0.00\n",
      "game_date     0.00\n",
      "attendance    9.22\n",
      "dtype: float64\n"
     ]
    }
   ],
   "source": [
    "#Ver porcentaje de valores faltantes por columna\n",
    "porcentaje_nulos = (df_game_info.isnull().mean() * 100).round(2)\n",
    "print(porcentaje_nulos)\n"
   ]
  },
  {
   "cell_type": "code",
   "execution_count": 84,
   "id": "22313b28",
   "metadata": {},
   "outputs": [
    {
     "name": "stdout",
     "output_type": "stream",
     "text": [
      "attendance    5350\n",
      "dtype: int64\n"
     ]
    }
   ],
   "source": [
    "#Ver solo las columnas que tienen valores faltantes\n",
    "\n",
    "faltantes = df_game_info.isnull().sum()\n",
    "faltantes = faltantes[faltantes > 0]\n",
    "print(faltantes)\n"
   ]
  },
  {
   "cell_type": "code",
   "execution_count": 86,
   "id": "1f9ba985",
   "metadata": {},
   "outputs": [],
   "source": [
    "#TRATAR VALORES FALTANTES\n",
    "\n",
    "mediana = df_game_info['attendance'].median()\n",
    "df_game_info.loc[:, 'attendance'] = df_game_info['attendance'].fillna(mediana)\n",
    "\n"
   ]
  },
  {
   "cell_type": "code",
   "execution_count": 87,
   "id": "d6e5b2d1",
   "metadata": {},
   "outputs": [
    {
     "name": "stdout",
     "output_type": "stream",
     "text": [
      "    game_id  game_date  attendance\n",
      "0  24600001 1946-11-01     16205.0\n",
      "1  24600003 1946-11-02     16205.0\n",
      "2  24600002 1946-11-02     16205.0\n",
      "3  24600004 1946-11-02     16205.0\n",
      "4  24600005 1946-11-02     16205.0\n"
     ]
    }
   ],
   "source": [
    "# Ver las primeras 5 filas\n",
    "print(df_game_info.head())"
   ]
  },
  {
   "cell_type": "markdown",
   "id": "c9e0aba0",
   "metadata": {},
   "source": [
    "# CREACION DE FACT_PARTIDOS"
   ]
  },
  {
   "cell_type": "code",
   "execution_count": 91,
   "id": "36d63888",
   "metadata": {},
   "outputs": [
    {
     "name": "stdout",
     "output_type": "stream",
     "text": [
      "    game_id game_date_x  season_id     season_type  team_id_home  \\\n",
      "0  24600001  1946-11-01      21946  Regular Season    1610610035   \n",
      "1  24600003  1946-11-02      21946  Regular Season    1610610034   \n",
      "2  24600002  1946-11-02      21946  Regular Season    1610610032   \n",
      "3  24600004  1946-11-02      21946  Regular Season    1610610025   \n",
      "4  24600005  1946-11-02      21946  Regular Season    1610610028   \n",
      "\n",
      "   team_id_away wl_home  pts_home_x  fgm_home  fga_home  ...  attendance  \\\n",
      "0    1610612752       L        66.0      25.0       0.0  ...     16205.0   \n",
      "1    1610610031       W        56.0      20.0      59.0  ...     16205.0   \n",
      "2    1610612738       W        59.0      21.0       0.0  ...     16205.0   \n",
      "3    1610612752       W        63.0      21.0       0.0  ...     16205.0   \n",
      "4    1610610036       L        33.0      10.0       0.0  ...     16205.0   \n",
      "\n",
      "   game_date_est  game_sequence  game_status_id  game_status_text  season  \\\n",
      "0     1946-11-01           -1.0             3.0       Desconocido  1946.0   \n",
      "1     1946-11-02           -1.0             3.0       Desconocido  1946.0   \n",
      "2     1946-11-02           -1.0             3.0       Desconocido  1946.0   \n",
      "3     1946-11-02           -1.0             3.0       Desconocido  1946.0   \n",
      "4     1946-11-02           -1.0             3.0       Desconocido  1946.0   \n",
      "\n",
      "   home_team_id  visitor_team_id  live_period  live_pc_time  \n",
      "0    1610610035       1610612752          5.0         00:00  \n",
      "1    1610610034       1610610031          4.0         00:00  \n",
      "2    1610610032       1610612738          4.0         00:00  \n",
      "3    1610610025       1610612752          4.0         00:00  \n",
      "4    1610610028       1610610036          4.0         00:00  \n",
      "\n",
      "[5 rows x 105 columns]\n"
     ]
    }
   ],
   "source": [
    "#Columnas seleccionadas de cada tabla:\n",
    "\n",
    "# game\n",
    "cols_game = [\n",
    "    'game_id', 'game_date','season_id','season_type','team_id_home', 'team_id_away', 'wl_home', 'pts_home',\n",
    "    'fgm_home', 'fga_home', 'fg_pct_home', 'fg3m_home', 'fg3a_home', 'fg3_pct_home',\n",
    "    'ftm_home', 'fta_home', 'ft_pct_home', 'oreb_home', 'dreb_home', 'reb_home',\n",
    "    'ast_home', 'stl_home', 'blk_home', 'tov_home', 'pf_home', 'plus_minus_home',\n",
    "    'wl_away', 'pts_away', 'fgm_away', 'fga_away', 'fg_pct_away', 'fg3m_away',\n",
    "    'fg3a_away', 'fg3_pct_away', 'ftm_away', 'fta_away', 'ft_pct_away', 'oreb_away',\n",
    "    'dreb_away', 'reb_away', 'ast_away', 'stl_away', 'blk_away', 'tov_away',\n",
    "    'pf_away', 'plus_minus_away'\n",
    "]\n",
    "\n",
    "# line_score\n",
    "cols_line_score = [\n",
    "    'game_id', 'pts_qtr1_home', 'pts_qtr2_home', 'pts_qtr3_home', 'pts_qtr4_home',\n",
    "    'pts_ot1_home', 'pts_ot2_home', 'pts_ot3_home', 'pts_ot4_home', 'pts_ot5_home',\n",
    "    'pts_ot6_home', 'pts_ot7_home', 'pts_ot8_home', 'pts_ot9_home', 'pts_ot10_home','pts_home',\n",
    "    'pts_qtr1_away', 'pts_qtr2_away', 'pts_qtr3_away', 'pts_qtr4_away',\n",
    "    'pts_ot1_away', 'pts_ot2_away', 'pts_ot3_away', 'pts_ot4_away', 'pts_ot5_away',\n",
    "    'pts_ot6_away', 'pts_ot7_away', 'pts_ot8_away', 'pts_ot9_away', 'pts_ot10_away','pts_away'\n",
    "]\n",
    "\n",
    "# other_stats\n",
    "cols_other_stats = [\n",
    "    'game_id', 'pts_paint_home', 'pts_2nd_chance_home', 'pts_fb_home', 'largest_lead_home',\n",
    "    'lead_changes', 'times_tied', 'team_turnovers_home', 'total_turnovers_home',\n",
    "    'team_rebounds_home', 'pts_off_to_home',\n",
    "    'pts_paint_away', 'pts_2nd_chance_away', 'pts_fb_away', 'largest_lead_away',\n",
    "    'team_turnovers_away', 'total_turnovers_away', 'team_rebounds_away', 'pts_off_to_away'\n",
    "]\n",
    "\n",
    "# game_info\n",
    "cols_game_info = ['game_id', 'game_date','attendance']\n",
    "\n",
    "# game_summary\n",
    "cols_game_summary = [\n",
    "    'game_id', 'game_date_est', 'game_sequence', 'game_status_id', 'game_status_text',\n",
    "    'season', 'home_team_id', 'visitor_team_id', 'live_period', 'live_pc_time'\n",
    "]\n",
    "\n",
    "#Filtramos solo las columnas necesarias\n",
    "df_game = df_game[cols_game]\n",
    "df_line_score = df_line_score[cols_line_score]\n",
    "df_other_stats = df_other_stats[cols_other_stats]\n",
    "df_game_info = df_game_info[cols_game_info]\n",
    "df_game_summary = df_game_summary[cols_game_summary]\n",
    "\n",
    "# Unimos todo paso a paso usando game_id como clave\n",
    "\n",
    "# Base\n",
    "df_fact_partidos = df_game.copy()\n",
    "\n",
    "# Merge con line_score\n",
    "df_fact_partidos = df_fact_partidos.merge(df_line_score, on='game_id', how='left')\n",
    "\n",
    "# Merge con other_stats\n",
    "df_fact_partidos = df_fact_partidos.merge(df_other_stats, on='game_id', how='left')\n",
    "\n",
    "# Merge con game_info\n",
    "df_fact_partidos = df_fact_partidos.merge(df_game_info, on='game_id', how='left')\n",
    "\n",
    "# Merge con game_summary\n",
    "df_fact_partidos = df_fact_partidos.merge(df_game_summary, on='game_id', how='left')\n",
    "\n",
    "# Mostrar una muestra final\n",
    "print(df_fact_partidos.head())\n",
    "\n"
   ]
  },
  {
   "cell_type": "code",
   "execution_count": 93,
   "id": "8df1f579",
   "metadata": {},
   "outputs": [
    {
     "name": "stdout",
     "output_type": "stream",
     "text": [
      "Variable           Type         Data/Info\n",
      "-----------------------------------------\n",
      "df_fact_partidos   DataFrame    Shape: (65748, 105)\n",
      "df_game            DataFrame    Shape: (65698, 46)\n",
      "df_game_info       DataFrame    Shape: (58013, 3)\n",
      "df_game_summary    DataFrame    Shape: (58070, 10)\n",
      "df_line_score      DataFrame    Shape: (58013, 31)\n",
      "df_other_stats     DataFrame    Shape: (28261, 19)\n"
     ]
    }
   ],
   "source": [
    "%whos DataFrame\n"
   ]
  },
  {
   "cell_type": "code",
   "execution_count": 94,
   "id": "328ef392",
   "metadata": {},
   "outputs": [],
   "source": [
    "#puedes guardar el archivo como .csv\n",
    "\n",
    "df_fact_partidos.to_csv(\"fact_partidos.csv\", index=False)\n"
   ]
  }
 ],
 "metadata": {
  "kernelspec": {
   "display_name": "Python 3",
   "language": "python",
   "name": "python3"
  },
  "language_info": {
   "codemirror_mode": {
    "name": "ipython",
    "version": 3
   },
   "file_extension": ".py",
   "mimetype": "text/x-python",
   "name": "python",
   "nbconvert_exporter": "python",
   "pygments_lexer": "ipython3",
   "version": "3.13.7"
  }
 },
 "nbformat": 4,
 "nbformat_minor": 5
}
