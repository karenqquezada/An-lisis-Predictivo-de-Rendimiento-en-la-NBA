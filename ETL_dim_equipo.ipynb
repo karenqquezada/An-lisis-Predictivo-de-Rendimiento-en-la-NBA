{
 "cells": [
  {
   "cell_type": "markdown",
   "id": "9809687c",
   "metadata": {},
   "source": [
    "PASO 1 — Realizar la conexion "
   ]
  },
  {
   "cell_type": "code",
   "execution_count": 1,
   "id": "1d9e8466",
   "metadata": {},
   "outputs": [
    {
     "name": "stdout",
     "output_type": "stream",
     "text": [
      "✅ Conectado a ProyectoBasket\n"
     ]
    }
   ],
   "source": [
    "import pandas as pd\n",
    "import sqlalchemy as sa\n",
    "\n",
    "driver   = 'ODBC Driver 18 for SQL Server'\n",
    "server   = r'DESKTOP-G4826U8\\SQLEXPRESS'\n",
    "database = 'ProyectoBasket'\n",
    "\n",
    "conn_str = (\n",
    "    f\"mssql+pyodbc://@{server}/{database}\"\n",
    "    f\"?driver={driver.replace(' ', '+')}\"\n",
    "    f\"&Trusted_Connection=yes&TrustServerCertificate=yes\"\n",
    ")\n",
    "engine = sa.create_engine(conn_str, fast_executemany=True)\n",
    "print(\"✅ Conectado a\", database)\n"
   ]
  },
  {
   "cell_type": "markdown",
   "id": "30b62d0b",
   "metadata": {},
   "source": [
    "PASO 2 — Cargar los datos desde tu CSV a la tabla existente"
   ]
  },
  {
   "cell_type": "code",
   "execution_count": 2,
   "id": "f4f22cc4",
   "metadata": {},
   "outputs": [
    {
     "name": "stdout",
     "output_type": "stream",
     "text": [
      "📥 Archivo leído correctamente: (30, 9)\n",
      "✅ Tabla 'dim_equipo' actualizada correctamente con 30 filas.\n"
     ]
    }
   ],
   "source": [
    "# --- Actualizar tabla dim_equipo ---\n",
    "import pandas as pd\n",
    "\n",
    "# Ruta del CSV con los datos nuevos\n",
    "ruta_csv = r\"D:\\Users\\usuario\\Desktop\\Automatizacion\\dim_equipo.csv\"\n",
    "\n",
    "# 1️⃣ Leer el archivo\n",
    "df = pd.read_csv(ruta_csv)\n",
    "print(\"📥 Archivo leído correctamente:\", df.shape)\n",
    "\n",
    "# 2️⃣ Vaciar la tabla actual (sin borrarla)\n",
    "with engine.begin() as conn:\n",
    "    conn.exec_driver_sql(\"TRUNCATE TABLE dbo.dim_equipo;\")\n",
    "\n",
    "# 3️⃣ Cargar los datos desde el CSV\n",
    "df.to_sql(\"dim_equipo\", con=engine, schema=\"dbo\", if_exists=\"append\", index=False)\n",
    "print(\"✅ Tabla 'dim_equipo' actualizada correctamente con\", len(df), \"filas.\")\n"
   ]
  },
  {
   "cell_type": "code",
   "execution_count": 3,
   "id": "2cdd8110",
   "metadata": {},
   "outputs": [
    {
     "name": "stdout",
     "output_type": "stream",
     "text": [
      "✅ Conectado a ProyectoBasket\n",
      "📥 CSV leído: (30, 9)\n",
      "✅ 'dim_equipo' actualizada con 30 filas.\n"
     ]
    }
   ],
   "source": [
    "# etl_dim_equipo.py\n",
    "import pandas as pd\n",
    "import sqlalchemy as sa\n",
    "\n",
    "# --- Conexión ---\n",
    "driver   = 'ODBC Driver 18 for SQL Server'\n",
    "server   = r'DESKTOP-G4826U8\\SQLEXPRESS'\n",
    "database = 'ProyectoBasket'\n",
    "conn_str = (\n",
    "    f\"mssql+pyodbc://@{server}/{database}\"\n",
    "    f\"?driver={driver.replace(' ', '+')}\"\n",
    "    f\"&Trusted_Connection=yes&TrustServerCertificate=yes\"\n",
    ")\n",
    "engine = sa.create_engine(conn_str, fast_executemany=True)\n",
    "print(\"✅ Conectado a\", database)\n",
    "\n",
    "# --- Refresco de tabla desde CSV ---\n",
    "ruta_csv = r\"D:\\Users\\usuario\\Desktop\\Automatizacion\\dim_equipo.csv\"\n",
    "df = pd.read_csv(ruta_csv)\n",
    "print(\"📥 CSV leído:\", df.shape)\n",
    "\n",
    "with engine.begin() as conn:\n",
    "    conn.exec_driver_sql(\"TRUNCATE TABLE dbo.dim_equipo;\")\n",
    "\n",
    "df.to_sql(\"dim_equipo\", con=engine, schema=\"dbo\", if_exists=\"append\", index=False)\n",
    "print(f\"✅ 'dim_equipo' actualizada con {len(df)} filas.\")\n"
   ]
  }
 ],
 "metadata": {
  "kernelspec": {
   "display_name": "Python 3",
   "language": "python",
   "name": "python3"
  },
  "language_info": {
   "codemirror_mode": {
    "name": "ipython",
    "version": 3
   },
   "file_extension": ".py",
   "mimetype": "text/x-python",
   "name": "python",
   "nbconvert_exporter": "python",
   "pygments_lexer": "ipython3",
   "version": "3.13.7"
  }
 },
 "nbformat": 4,
 "nbformat_minor": 5
}
